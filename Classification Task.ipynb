{
 "cells": [
  {
   "cell_type": "code",
   "execution_count": 168,
   "metadata": {},
   "outputs": [
    {
     "data": {
      "text/html": [
       "<style>.container { width:95% !important; }</style>"
      ],
      "text/plain": [
       "<IPython.core.display.HTML object>"
      ]
     },
     "metadata": {},
     "output_type": "display_data"
    }
   ],
   "source": [
    "import pandas as pd\n",
    "import numpy as np\n",
    "\n",
    "from sklearn.model_selection import train_test_split, StratifiedShuffleSplit, cross_val_score, GridSearchCV\n",
    "from sklearn.metrics import precision_score, recall_score, accuracy_score, f1_score, roc_curve, auc, confusion_matrix\n",
    "\n",
    "\n",
    "from sklearn.decomposition import TruncatedSVD\n",
    "from sklearn.feature_extraction.text import TfidfVectorizer\n",
    "from sklearn.preprocessing import LabelEncoders, label_binarize\n",
    "\n",
    "from sklearn.naive_bayes import GaussianNB\n",
    "from sklearn.linear_model import SGDClassifier\n",
    "from sklearn.dummy import DummyClassifier\n",
    "from sklearn.tree import DecisionTreeClassifier\n",
    "from sklearn.ensemble import RandomForestClassifier, AdaBoostClassifier\n",
    "from sklearn.neighbors import KNeighborsClassifier\n",
    "from sklearn.multiclass import OneVsRestClassifier\n",
    "from sklearn.svm import LinearSVC\n",
    "\n",
    "from scipy import interp\n",
    "from itertools import cycle\n",
    "\n",
    "from sklearn.pipeline import Pipeline\n",
    "\n",
    "import matplotlib.pyplot as plt\n",
    "import seaborn as sns\n",
    "sns.set_style('darkgrid')\n",
    "\n",
    "from IPython.core.display import display, HTML\n",
    "display(HTML(\"<style>.container { width:95% !important; }</style>\"))\n",
    "import warnings\n",
    "warnings.filterwarnings('ignore')\n",
    "pd.options.display.float_format = '{:,.2f}'.format"
   ]
  },
  {
   "cell_type": "code",
   "execution_count": 15,
   "metadata": {},
   "outputs": [],
   "source": [
    "tweets_df = pd.read_csv('./cleaned_tweets.csv')"
   ]
  },
  {
   "cell_type": "markdown",
   "metadata": {},
   "source": [
    "### Data Preparation"
   ]
  },
  {
   "cell_type": "code",
   "execution_count": 18,
   "metadata": {},
   "outputs": [
    {
     "data": {
      "text/html": [
       "<div>\n",
       "<style scoped>\n",
       "    .dataframe tbody tr th:only-of-type {\n",
       "        vertical-align: middle;\n",
       "    }\n",
       "\n",
       "    .dataframe tbody tr th {\n",
       "        vertical-align: top;\n",
       "    }\n",
       "\n",
       "    .dataframe thead th {\n",
       "        text-align: right;\n",
       "    }\n",
       "</style>\n",
       "<table border=\"1\" class=\"dataframe\">\n",
       "  <thead>\n",
       "    <tr style=\"text-align: right;\">\n",
       "      <th></th>\n",
       "      <th>final_cleaned_content</th>\n",
       "      <th>annotation.labels</th>\n",
       "    </tr>\n",
       "  </thead>\n",
       "  <tbody>\n",
       "    <tr>\n",
       "      <th>0</th>\n",
       "      <td>pdhl poros ke ini sebenarnya mau nelikung...</td>\n",
       "      <td>joy</td>\n",
       "    </tr>\n",
       "    <tr>\n",
       "      <th>1</th>\n",
       "      <td>maap bosmending ngomong realita aja soal k...</td>\n",
       "      <td>joy</td>\n",
       "    </tr>\n",
       "    <tr>\n",
       "      <th>2</th>\n",
       "      <td>seandainya sekutu berpaling apa masih tetap...</td>\n",
       "      <td>fear</td>\n",
       "    </tr>\n",
       "    <tr>\n",
       "      <th>3</th>\n",
       "      <td>saya dukung pak prabowo capresnamun plihan</td>\n",
       "      <td>joy</td>\n",
       "    </tr>\n",
       "    <tr>\n",
       "      <th>4</th>\n",
       "      <td>mencari yang setia dan sepemikiran itu sulit...</td>\n",
       "      <td>trust</td>\n",
       "    </tr>\n",
       "  </tbody>\n",
       "</table>\n",
       "</div>"
      ],
      "text/plain": [
       "                               final_cleaned_content annotation.labels\n",
       "0       pdhl poros ke ini sebenarnya mau nelikung...               joy\n",
       "1      maap bosmending ngomong realita aja soal k...               joy\n",
       "2     seandainya sekutu berpaling apa masih tetap...              fear\n",
       "3        saya dukung pak prabowo capresnamun plihan                joy\n",
       "4    mencari yang setia dan sepemikiran itu sulit...             trust"
      ]
     },
     "execution_count": 18,
     "metadata": {},
     "output_type": "execute_result"
    }
   ],
   "source": [
    "tweets_df.head()"
   ]
  },
  {
   "cell_type": "code",
   "execution_count": 19,
   "metadata": {},
   "outputs": [
    {
     "data": {
      "text/plain": [
       "joy             1576\n",
       "trust           1309\n",
       "anticipation     873\n",
       "anger            797\n",
       "disgust          448\n",
       "fear             423\n",
       "sadness          405\n",
       "surprise          70\n",
       "other              6\n",
       "Name: annotation.labels, dtype: int64"
      ]
     },
     "execution_count": 19,
     "metadata": {},
     "output_type": "execute_result"
    }
   ],
   "source": [
    "tweets_df['annotation.labels'].value_counts()"
   ]
  },
  {
   "cell_type": "code",
   "execution_count": 124,
   "metadata": {},
   "outputs": [],
   "source": [
    "# Holding out 5 tweets from each label for prediction in the end. NOTE: We'll remove \"other\" category from the modelling.\n",
    "labels = tweets_df['annotation.labels'].unique()\n",
    "temp_df = []\n",
    "for label in labels:\n",
    "    if label == 'other':\n",
    "        continue\n",
    "    else:\n",
    "        temp_df.append(tweets_df[tweets_df['annotation.labels'] == label].sample(frac=1).iloc[:5])\n",
    "\n",
    "\n",
    "df_holdout = pd.concat(temp_df).reset_index()"
   ]
  },
  {
   "cell_type": "code",
   "execution_count": 125,
   "metadata": {},
   "outputs": [],
   "source": [
    "train_set = tweets_df[~tweets_df['final_cleaned_content'].isin(df_holdout['final_cleaned_content'])]\n",
    "train_set = train_set[train_set['annotation.labels'] != \"other\"]"
   ]
  },
  {
   "cell_type": "code",
   "execution_count": 126,
   "metadata": {},
   "outputs": [],
   "source": [
    "# Label Encoding\n",
    "le = LabelEncoder()\n",
    "train_set['labels'] = le.fit_transform(train_set['annotation.labels'])"
   ]
  },
  {
   "cell_type": "code",
   "execution_count": 129,
   "metadata": {},
   "outputs": [
    {
     "data": {
      "text/html": [
       "<div>\n",
       "<style scoped>\n",
       "    .dataframe tbody tr th:only-of-type {\n",
       "        vertical-align: middle;\n",
       "    }\n",
       "\n",
       "    .dataframe tbody tr th {\n",
       "        vertical-align: top;\n",
       "    }\n",
       "\n",
       "    .dataframe thead th {\n",
       "        text-align: right;\n",
       "    }\n",
       "</style>\n",
       "<table border=\"1\" class=\"dataframe\">\n",
       "  <thead>\n",
       "    <tr style=\"text-align: right;\">\n",
       "      <th></th>\n",
       "      <th>final_cleaned_content</th>\n",
       "      <th>annotation.labels</th>\n",
       "      <th>labels</th>\n",
       "    </tr>\n",
       "  </thead>\n",
       "  <tbody>\n",
       "    <tr>\n",
       "      <th>0</th>\n",
       "      <td>pdhl poros ke ini sebenarnya mau nelikung...</td>\n",
       "      <td>joy</td>\n",
       "      <td>4</td>\n",
       "    </tr>\n",
       "    <tr>\n",
       "      <th>1</th>\n",
       "      <td>maap bosmending ngomong realita aja soal k...</td>\n",
       "      <td>joy</td>\n",
       "      <td>4</td>\n",
       "    </tr>\n",
       "    <tr>\n",
       "      <th>2</th>\n",
       "      <td>seandainya sekutu berpaling apa masih tetap...</td>\n",
       "      <td>fear</td>\n",
       "      <td>3</td>\n",
       "    </tr>\n",
       "    <tr>\n",
       "      <th>3</th>\n",
       "      <td>saya dukung pak prabowo capresnamun plihan</td>\n",
       "      <td>joy</td>\n",
       "      <td>4</td>\n",
       "    </tr>\n",
       "    <tr>\n",
       "      <th>4</th>\n",
       "      <td>mencari yang setia dan sepemikiran itu sulit...</td>\n",
       "      <td>trust</td>\n",
       "      <td>7</td>\n",
       "    </tr>\n",
       "  </tbody>\n",
       "</table>\n",
       "</div>"
      ],
      "text/plain": [
       "                               final_cleaned_content annotation.labels  labels\n",
       "0       pdhl poros ke ini sebenarnya mau nelikung...               joy       4\n",
       "1      maap bosmending ngomong realita aja soal k...               joy       4\n",
       "2     seandainya sekutu berpaling apa masih tetap...              fear       3\n",
       "3        saya dukung pak prabowo capresnamun plihan                joy       4\n",
       "4    mencari yang setia dan sepemikiran itu sulit...             trust       7"
      ]
     },
     "execution_count": 129,
     "metadata": {},
     "output_type": "execute_result"
    }
   ],
   "source": [
    "train_set.head()"
   ]
  },
  {
   "cell_type": "markdown",
   "metadata": {},
   "source": [
    "### Featurization"
   ]
  },
  {
   "cell_type": "code",
   "execution_count": 130,
   "metadata": {},
   "outputs": [
    {
     "name": "stdout",
     "output_type": "stream",
     "text": [
      "(5861, 14086)\n",
      "(5861,)\n"
     ]
    }
   ],
   "source": [
    "#Creating features using TF-IDF Vectorizer\n",
    "\n",
    "tweets = train_set['final_cleaned_content'].astype(str)\n",
    "\n",
    "tfidf_vectorizer = TfidfVectorizer(ngram_range=(1,2),\n",
    "                                   min_df = 2,\n",
    "                                   max_df = 0.9)\n",
    "#features\n",
    "X = tfidf_vectorizer.fit_transform(tweets)\n",
    "\n",
    "#target\n",
    "y = train_set['labels'].values\n",
    "\n",
    "print(X.shape)\n",
    "print(y.shape)"
   ]
  },
  {
   "cell_type": "code",
   "execution_count": 132,
   "metadata": {},
   "outputs": [
    {
     "data": {
      "text/plain": [
       "(5861, 500)"
      ]
     },
     "execution_count": 132,
     "metadata": {},
     "output_type": "execute_result"
    }
   ],
   "source": [
    "#Dimensionality Reduction\n",
    "\n",
    "lsa = TruncatedSVD(n_components=500,\n",
    "                   n_iter=10,\n",
    "                   random_state=123)\n",
    "\n",
    "X_ = lsa.fit_transform(X)\n",
    "X_.shape"
   ]
  },
  {
   "cell_type": "markdown",
   "metadata": {},
   "source": [
    "### Modelling"
   ]
  },
  {
   "cell_type": "code",
   "execution_count": 133,
   "metadata": {},
   "outputs": [
    {
     "data": {
      "text/html": [
       "<div>\n",
       "<style scoped>\n",
       "    .dataframe tbody tr th:only-of-type {\n",
       "        vertical-align: middle;\n",
       "    }\n",
       "\n",
       "    .dataframe tbody tr th {\n",
       "        vertical-align: top;\n",
       "    }\n",
       "\n",
       "    .dataframe thead th {\n",
       "        text-align: right;\n",
       "    }\n",
       "</style>\n",
       "<table border=\"1\" class=\"dataframe\">\n",
       "  <thead>\n",
       "    <tr style=\"text-align: right;\">\n",
       "      <th></th>\n",
       "      <th>model_name</th>\n",
       "      <th>accuracy_score</th>\n",
       "      <th>precision_score</th>\n",
       "      <th>recall_score</th>\n",
       "      <th>f1_score</th>\n",
       "    </tr>\n",
       "  </thead>\n",
       "  <tbody>\n",
       "    <tr>\n",
       "      <th>7</th>\n",
       "      <td>Linear_SVC</td>\n",
       "      <td>0.43</td>\n",
       "      <td>0.46</td>\n",
       "      <td>0.33</td>\n",
       "      <td>0.35</td>\n",
       "    </tr>\n",
       "    <tr>\n",
       "      <th>2</th>\n",
       "      <td>SGD</td>\n",
       "      <td>0.42</td>\n",
       "      <td>0.31</td>\n",
       "      <td>0.31</td>\n",
       "      <td>0.29</td>\n",
       "    </tr>\n",
       "    <tr>\n",
       "      <th>6</th>\n",
       "      <td>NB</td>\n",
       "      <td>0.30</td>\n",
       "      <td>0.27</td>\n",
       "      <td>0.31</td>\n",
       "      <td>0.27</td>\n",
       "    </tr>\n",
       "    <tr>\n",
       "      <th>1</th>\n",
       "      <td>KNN</td>\n",
       "      <td>0.33</td>\n",
       "      <td>0.29</td>\n",
       "      <td>0.23</td>\n",
       "      <td>0.23</td>\n",
       "    </tr>\n",
       "    <tr>\n",
       "      <th>3</th>\n",
       "      <td>Random_Forest</td>\n",
       "      <td>0.35</td>\n",
       "      <td>0.31</td>\n",
       "      <td>0.21</td>\n",
       "      <td>0.19</td>\n",
       "    </tr>\n",
       "    <tr>\n",
       "      <th>4</th>\n",
       "      <td>Decision_Tree</td>\n",
       "      <td>0.25</td>\n",
       "      <td>0.18</td>\n",
       "      <td>0.18</td>\n",
       "      <td>0.18</td>\n",
       "    </tr>\n",
       "    <tr>\n",
       "      <th>5</th>\n",
       "      <td>AdaBoost</td>\n",
       "      <td>0.28</td>\n",
       "      <td>0.18</td>\n",
       "      <td>0.17</td>\n",
       "      <td>0.16</td>\n",
       "    </tr>\n",
       "    <tr>\n",
       "      <th>0</th>\n",
       "      <td>Dummy</td>\n",
       "      <td>0.20</td>\n",
       "      <td>0.14</td>\n",
       "      <td>0.14</td>\n",
       "      <td>0.14</td>\n",
       "    </tr>\n",
       "  </tbody>\n",
       "</table>\n",
       "</div>"
      ],
      "text/plain": [
       "      model_name accuracy_score precision_score recall_score f1_score\n",
       "7     Linear_SVC           0.43            0.46         0.33     0.35\n",
       "2            SGD           0.42            0.31         0.31     0.29\n",
       "6             NB           0.30            0.27         0.31     0.27\n",
       "1            KNN           0.33            0.29         0.23     0.23\n",
       "3  Random_Forest           0.35            0.31         0.21     0.19\n",
       "4  Decision_Tree           0.25            0.18         0.18     0.18\n",
       "5       AdaBoost           0.28            0.18         0.17     0.16\n",
       "0          Dummy           0.20            0.14         0.14     0.14"
      ]
     },
     "execution_count": 133,
     "metadata": {},
     "output_type": "execute_result"
    }
   ],
   "source": [
    "# Creating dictionary of various models\n",
    "\n",
    "model_dict = {'Dummy': DummyClassifier(random_state=123),\n",
    "              'KNN': KNeighborsClassifier(),\n",
    "              'SGD': SGDClassifier(loss='hinge', penalty='l2',alpha=1e-3, random_state=123, max_iter=10, tol=None),\n",
    "              'Random_Forest': RandomForestClassifier(random_state=123, n_estimators=100),\n",
    "              'Decision_Tree': DecisionTreeClassifier(random_state=123),\n",
    "              'AdaBoost': AdaBoostClassifier(random_state=123),\n",
    "              'NB': GaussianNB(),\n",
    "              'Linear_SVC': LinearSVC()\n",
    "             }\n",
    "\n",
    "# Train-Valid Split with stratified sampling\n",
    "X_train, X_valid, y_train, y_valid = train_test_split(X_, y, test_size=0.2, shuffle=True, stratify=y, random_state=123)\n",
    "\n",
    "\n",
    "def get_model_scores(model_dict):\n",
    "    model_name, acc_score, prec_score, rec_score, f1_score_ = [], [], [], [], []\n",
    "    for name, model_obj in model_dict.items():\n",
    "        model_name.append(name)\n",
    "        model_obj.fit(X_train, y_train)\n",
    "        pred = model_obj.predict(X_valid)\n",
    "        acc_score.append(accuracy_score(y_valid, pred))\n",
    "        prec_score.append(precision_score(y_valid, pred, average='macro'))\n",
    "        rec_score.append(recall_score(y_valid, pred, average='macro'))\n",
    "        f1_score_.append(f1_score(y_valid, pred, average='macro'))\n",
    "        df = pd.DataFrame([model_name, acc_score, prec_score, rec_score, f1_score_]).T\n",
    "        df.columns=['model_name',\n",
    "                 'accuracy_score',\n",
    "                 'precision_score',\n",
    "                 'recall_score',\n",
    "                 'f1_score'\n",
    "                ]\n",
    "        df = df.sort_values(by='f1_score', ascending=False)\n",
    "    return df\n",
    "    \n",
    "get_model_scores(model_dict)"
   ]
  },
  {
   "cell_type": "markdown",
   "metadata": {},
   "source": [
    "### Hyperparameter Tuning"
   ]
  },
  {
   "cell_type": "code",
   "execution_count": 134,
   "metadata": {},
   "outputs": [
    {
     "name": "stdout",
     "output_type": "stream",
     "text": [
      "Fitting 5 folds for each of 24 candidates, totalling 120 fits\n"
     ]
    },
    {
     "name": "stderr",
     "output_type": "stream",
     "text": [
      "[Parallel(n_jobs=-1)]: Using backend LokyBackend with 8 concurrent workers.\n",
      "[Parallel(n_jobs=-1)]: Done  34 tasks      | elapsed:   37.2s\n",
      "[Parallel(n_jobs=-1)]: Done 120 out of 120 | elapsed: 17.9min finished\n"
     ]
    }
   ],
   "source": [
    "# Linear SVC\n",
    "loss =  ['squared_hinge', 'hinge']\n",
    "penalty = ['l2']\n",
    "C = [1, 5, 100, 1000]\n",
    "max_iter = [5, 1000, 10000]\n",
    "random_state = [123]\n",
    "\n",
    "clf = LinearSVC()\n",
    "\n",
    "params = dict(loss=loss,\n",
    "              penalty=penalty,\n",
    "              C=C,\n",
    "              max_iter=max_iter,\n",
    "              random_state=random_state)\n",
    "\n",
    "gridsearch = GridSearchCV(clf,\n",
    "                          params,\n",
    "                          cv = 5,\n",
    "                          verbose = 1, \n",
    "                          n_jobs = -1)\n",
    "\n",
    "linear_svc_best_model = gridsearch.fit(X_, y)\n"
   ]
  },
  {
   "cell_type": "code",
   "execution_count": 139,
   "metadata": {},
   "outputs": [
    {
     "data": {
      "text/plain": [
       "0.48240940223902107"
      ]
     },
     "execution_count": 139,
     "metadata": {},
     "output_type": "execute_result"
    }
   ],
   "source": [
    "# Using the best model from the gridsearch, to predict and evaluate on the valid set.\n",
    "y_pred = linear_svc_best_model.predict(X_valid)\n",
    "f1_score(y_valid, y_pred, average='macro')"
   ]
  },
  {
   "cell_type": "code",
   "execution_count": 142,
   "metadata": {},
   "outputs": [
    {
     "data": {
      "text/plain": [
       "LinearSVC(C=1, class_weight=None, dual=True, fit_intercept=True,\n",
       "     intercept_scaling=1, loss='squared_hinge', max_iter=1000,\n",
       "     multi_class='ovr', penalty='l2', random_state=123, tol=0.0001,\n",
       "     verbose=0)"
      ]
     },
     "execution_count": 142,
     "metadata": {},
     "output_type": "execute_result"
    }
   ],
   "source": [
    "linear_svc_best_model.best_estimator_"
   ]
  },
  {
   "cell_type": "markdown",
   "metadata": {},
   "source": [
    "### Model Evaluation"
   ]
  },
  {
   "cell_type": "code",
   "execution_count": 140,
   "metadata": {},
   "outputs": [
    {
     "name": "stdout",
     "output_type": "stream",
     "text": [
      "Fitting 5 folds for each of 24 candidates, totalling 120 fits\n"
     ]
    },
    {
     "name": "stderr",
     "output_type": "stream",
     "text": [
      "[Parallel(n_jobs=-1)]: Using backend LokyBackend with 8 concurrent workers.\n",
      "[Parallel(n_jobs=-1)]: Done  34 tasks      | elapsed:    4.4s\n",
      "[Parallel(n_jobs=-1)]: Done 120 out of 120 | elapsed:  1.9min finished\n",
      "[Parallel(n_jobs=-1)]: Using backend LokyBackend with 8 concurrent workers.\n"
     ]
    },
    {
     "name": "stdout",
     "output_type": "stream",
     "text": [
      "Fitting 5 folds for each of 24 candidates, totalling 120 fits\n"
     ]
    },
    {
     "name": "stderr",
     "output_type": "stream",
     "text": [
      "[Parallel(n_jobs=-1)]: Done  34 tasks      | elapsed:    3.0s\n",
      "[Parallel(n_jobs=-1)]: Done 120 out of 120 | elapsed:  2.4min finished\n"
     ]
    },
    {
     "name": "stdout",
     "output_type": "stream",
     "text": [
      "Fitting 5 folds for each of 24 candidates, totalling 120 fits\n"
     ]
    },
    {
     "name": "stderr",
     "output_type": "stream",
     "text": [
      "[Parallel(n_jobs=-1)]: Using backend LokyBackend with 8 concurrent workers.\n",
      "[Parallel(n_jobs=-1)]: Done  51 tasks      | elapsed:    8.7s\n",
      "[Parallel(n_jobs=-1)]: Done 120 out of 120 | elapsed:  1.8min finished\n",
      "[Parallel(n_jobs=-1)]: Using backend LokyBackend with 8 concurrent workers.\n"
     ]
    },
    {
     "name": "stdout",
     "output_type": "stream",
     "text": [
      "Fitting 5 folds for each of 24 candidates, totalling 120 fits\n"
     ]
    },
    {
     "name": "stderr",
     "output_type": "stream",
     "text": [
      "[Parallel(n_jobs=-1)]: Done  34 tasks      | elapsed:    4.7s\n",
      "[Parallel(n_jobs=-1)]: Done 120 out of 120 | elapsed:  1.8min finished\n",
      "[Parallel(n_jobs=-1)]: Using backend LokyBackend with 8 concurrent workers.\n"
     ]
    },
    {
     "name": "stdout",
     "output_type": "stream",
     "text": [
      "Fitting 5 folds for each of 24 candidates, totalling 120 fits\n"
     ]
    },
    {
     "name": "stderr",
     "output_type": "stream",
     "text": [
      "[Parallel(n_jobs=-1)]: Done  34 tasks      | elapsed:    3.8s\n",
      "[Parallel(n_jobs=-1)]: Done 120 out of 120 | elapsed:  3.0min finished\n"
     ]
    },
    {
     "name": "stdout",
     "output_type": "stream",
     "text": [
      "Fitting 5 folds for each of 24 candidates, totalling 120 fits\n"
     ]
    },
    {
     "name": "stderr",
     "output_type": "stream",
     "text": [
      "[Parallel(n_jobs=-1)]: Using backend LokyBackend with 8 concurrent workers.\n",
      "[Parallel(n_jobs=-1)]: Done  34 tasks      | elapsed:    3.3s\n",
      "[Parallel(n_jobs=-1)]: Done 120 out of 120 | elapsed:  1.3min finished\n"
     ]
    },
    {
     "name": "stdout",
     "output_type": "stream",
     "text": [
      "Fitting 5 folds for each of 24 candidates, totalling 120 fits\n"
     ]
    },
    {
     "name": "stderr",
     "output_type": "stream",
     "text": [
      "[Parallel(n_jobs=-1)]: Using backend LokyBackend with 8 concurrent workers.\n",
      "[Parallel(n_jobs=-1)]: Done  34 tasks      | elapsed:    1.5s\n",
      "[Parallel(n_jobs=-1)]: Done 120 out of 120 | elapsed:   17.9s finished\n",
      "[Parallel(n_jobs=-1)]: Using backend LokyBackend with 8 concurrent workers.\n"
     ]
    },
    {
     "name": "stdout",
     "output_type": "stream",
     "text": [
      "Fitting 5 folds for each of 24 candidates, totalling 120 fits\n"
     ]
    },
    {
     "name": "stderr",
     "output_type": "stream",
     "text": [
      "[Parallel(n_jobs=-1)]: Done  34 tasks      | elapsed:    3.8s\n",
      "[Parallel(n_jobs=-1)]: Done 120 out of 120 | elapsed:  2.7min finished\n"
     ]
    }
   ],
   "source": [
    "# AUC for best linear_svc model obtained through hyperparameter tuning\n",
    "\n",
    "y_binarize = label_binarize(y, classes=np.unique(y))\n",
    "nb_classes = y_binarize.shape[1]\n",
    "\n",
    "X_train_b, X_test_b, y_train_b, y_test_b = train_test_split(X_,\n",
    "                                                            y_binarize,\n",
    "                                                            test_size = .2,\n",
    "                                                            shuffle = True,\n",
    "                                                            stratify = y,\n",
    "                                                            random_state = 123)\n",
    "\n",
    "# Model to predict each class against the other\n",
    "linear_svc_ova = OneVsRestClassifier(linear_svc_best_model)\n",
    "\n",
    "clf = linear_svc_ova.fit(X_train_b, y_train_b)\n",
    "\n"
   ]
  },
  {
   "cell_type": "code",
   "execution_count": 143,
   "metadata": {},
   "outputs": [
    {
     "data": {
      "image/png": "[encoded data removed]",
      "text/plain": [
       "<Figure size 936x720 with 1 Axes>"
      ]
     },
     "metadata": {},
     "output_type": "display_data"
    }
   ],
   "source": [
    "y_score = clf.decision_function(X_test_b)\n",
    "\n",
    "# ROC curve\n",
    "fpr = dict()\n",
    "tpr = dict()\n",
    "roc_auc = dict()\n",
    "\n",
    "for i in range(nb_classes):\n",
    "    fpr[i], tpr[i], _ = roc_curve(y_test_b[:, i], y_score[:, i])\n",
    "    roc_auc[i] = auc(fpr[i], tpr[i])\n",
    "\n",
    "\n",
    "fpr['micro'], tpr['micro'], _ = roc_curve(y_test_b.ravel(), y_score.ravel())\n",
    "roc_auc['micro'] = auc(fpr['micro'], tpr['micro'])\n",
    "\n",
    "all_fpr = np.unique(np.concatenate([fpr[i] for i in range(nb_classes)]))\n",
    "\n",
    "mean_tpr = np.zeros_like(all_fpr)\n",
    "for i in range(nb_classes):\n",
    "    mean_tpr += interp(all_fpr, fpr[i], tpr[i])\n",
    "    \n",
    "mean_tpr /= nb_classes\n",
    "\n",
    "fpr['macro'] = all_fpr\n",
    "tpr['macro'] = mean_tpr\n",
    "roc_auc['macro'] = auc(fpr['macro'], tpr['macro'])\n",
    "\n",
    "#Plot all ROC curves\n",
    "plt.figure(figsize=(13,10)) \n",
    "sns.set_style('darkgrid')\n",
    "lw=2\n",
    "\n",
    "plt.plot(fpr['micro'], \n",
    "         tpr['micro'], \n",
    "         label='micro-average ROC curve (area = {0:0.3f})'''.format(roc_auc['micro']),\n",
    "         color='deeppink',\n",
    "         linestyle=':', \n",
    "         linewidth=4)\n",
    "\n",
    "plt.plot(fpr['macro'], \n",
    "         tpr['macro'], \n",
    "         label='macro-average ROC curve (area = {0:0.3f})'''.format(roc_auc['macro']),\n",
    "         color='navy', \n",
    "         linestyle=':', \n",
    "         linewidth=4)\n",
    "\n",
    "colors = cycle(['#41924F', '#FFC300', '#a98ff3', '#59C7EA'])\n",
    "\n",
    "for i, color in zip(range(nb_classes), colors):\n",
    "    plt.plot(fpr[i], tpr[i], \n",
    "             color=color, \n",
    "             lw=lw, \n",
    "             label='ROC curve of class {0} (area = {1:0.3f})'''.format(i, roc_auc[i]))\n",
    "\n",
    "plt.plot([0, 1], [0, 1], 'k--', lw=lw)\n",
    "plt.xlim([0.0, 1.0])\n",
    "plt.ylim([0.0, 1.05])\n",
    "plt.xlabel('1-Specificity (False Positive Rate)', fontsize = 14)\n",
    "plt.ylabel('Sensitivity (True Positive Rate)', fontsize = 14)\n",
    "plt.title('Receiver Operating Characteristic - Linear SVM (loss = squared_hinge)', fontsize = 16)\n",
    "plt.legend(loc=\"lower right\", fontsize = 13)\n",
    "plt.show()"
   ]
  },
  {
   "cell_type": "code",
   "execution_count": 193,
   "metadata": {
    "scrolled": true
   },
   "outputs": [
    {
     "data": {
      "image/png": "[encoded data removed]",
      "text/plain": [
       "<Figure size 1440x1296 with 2 Axes>"
      ]
     },
     "metadata": {},
     "output_type": "display_data"
    }
   ],
   "source": [
    "# Confusion Matrix - LinearSVC ( On previously created valid set)\n",
    "\n",
    "cm = confusion_matrix(y_valid, y_pred)\n",
    "\n",
    "cm_df = pd.DataFrame(cm, index=le.classes_, columns=le.classes_)\n",
    "\n",
    "#Plot the heatmap\n",
    "plt.figure(figsize=(20, 18))\n",
    "\n",
    "sns.heatmap(cm_df, \n",
    "            center=0, \n",
    "            cmap=sns.diverging_palette(220, 15, as_cmap=True), \n",
    "            annot=True, \n",
    "            fmt='g')\n",
    "\n",
    "plt.title('LinearSVC (loss = squared_hinge) \\nF1 Score (avg = macro) : {0:.2f}'.format(f1_score(y_valid, y_pred, average='macro')), fontsize = 15)\n",
    "plt.ylabel('True label', fontsize = 15)\n",
    "plt.xlabel('Predicted label', fontsize = 15)\n",
    "plt.show()"
   ]
  },
  {
   "cell_type": "code",
   "execution_count": 152,
   "metadata": {},
   "outputs": [
    {
     "name": "stdout",
     "output_type": "stream",
     "text": [
      "Fitting 5 folds for each of 24 candidates, totalling 120 fits\n"
     ]
    },
    {
     "name": "stderr",
     "output_type": "stream",
     "text": [
      "[Parallel(n_jobs=-1)]: Using backend LokyBackend with 8 concurrent workers.\n",
      "[Parallel(n_jobs=-1)]: Done  34 tasks      | elapsed:   36.2s\n",
      "[Parallel(n_jobs=-1)]: Done 120 out of 120 | elapsed: 18.1min finished\n"
     ]
    },
    {
     "data": {
      "text/plain": [
       "GridSearchCV(cv=5, error_score='raise-deprecating',\n",
       "       estimator=LinearSVC(C=1.0, class_weight=None, dual=True, fit_intercept=True,\n",
       "     intercept_scaling=1, loss='squared_hinge', max_iter=1000,\n",
       "     multi_class='ovr', penalty='l2', random_state=None, tol=0.0001,\n",
       "     verbose=0),\n",
       "       fit_params=None, iid='warn', n_jobs=-1,\n",
       "       param_grid={'loss': ['squared_hinge', 'hinge'], 'penalty': ['l2'], 'C': [1, 5, 100, 1000], 'max_iter': [5, 1000, 10000], 'random_state': [123]},\n",
       "       pre_dispatch='2*n_jobs', refit=True, return_train_score='warn',\n",
       "       scoring=None, verbose=1)"
      ]
     },
     "execution_count": 152,
     "metadata": {},
     "output_type": "execute_result"
    }
   ],
   "source": [
    "# Prediction on the holdout test created before\n",
    "\n",
    "holdout_set = df_holdout['final_cleaned_content'].astype('str')\n",
    "\n",
    "X_holdout_tfidf = tfidf_vectorizer.transform(holdout_set)\n",
    "X_holdout = lsa.transform(X_holdout_tfidf)\n",
    "\n",
    "#Fitting on full data(train + valid set)\n",
    "linear_svc_best_model.fit(X_, y)"
   ]
  },
  {
   "cell_type": "code",
   "execution_count": 158,
   "metadata": {},
   "outputs": [
    {
     "data": {
      "text/html": [
       "<div>\n",
       "<style scoped>\n",
       "    .dataframe tbody tr th:only-of-type {\n",
       "        vertical-align: middle;\n",
       "    }\n",
       "\n",
       "    .dataframe tbody tr th {\n",
       "        vertical-align: top;\n",
       "    }\n",
       "\n",
       "    .dataframe thead th {\n",
       "        text-align: right;\n",
       "    }\n",
       "</style>\n",
       "<table border=\"1\" class=\"dataframe\">\n",
       "  <thead>\n",
       "    <tr style=\"text-align: right;\">\n",
       "      <th></th>\n",
       "      <th>final_cleaned_content</th>\n",
       "      <th>annotation.labels</th>\n",
       "      <th>prediction</th>\n",
       "    </tr>\n",
       "  </thead>\n",
       "  <tbody>\n",
       "    <tr>\n",
       "      <th>0</th>\n",
       "      <td>catatan dari materi pak menteri  bahwa indones...</td>\n",
       "      <td>joy</td>\n",
       "      <td>trust</td>\n",
       "    </tr>\n",
       "    <tr>\n",
       "      <th>1</th>\n",
       "      <td>bersama prof mahfud md nketua umum ppp m romah...</td>\n",
       "      <td>joy</td>\n",
       "      <td>joy</td>\n",
       "    </tr>\n",
       "    <tr>\n",
       "      <th>2</th>\n",
       "      <td>live  silaturahmi  dng kh maghfur i amp pengur...</td>\n",
       "      <td>joy</td>\n",
       "      <td>joy</td>\n",
       "    </tr>\n",
       "    <tr>\n",
       "      <th>3</th>\n",
       "      <td>buka puasa jadi lebih nikmat  dengan paket ber...</td>\n",
       "      <td>joy</td>\n",
       "      <td>joy</td>\n",
       "    </tr>\n",
       "    <tr>\n",
       "      <th>4</th>\n",
       "      <td>maju terus para penge</td>\n",
       "      <td>joy</td>\n",
       "      <td>trust</td>\n",
       "    </tr>\n",
       "    <tr>\n",
       "      <th>5</th>\n",
       "      <td>seharusnya yang perlu di pertanyakan itu j...</td>\n",
       "      <td>fear</td>\n",
       "      <td>trust</td>\n",
       "    </tr>\n",
       "    <tr>\n",
       "      <th>6</th>\n",
       "      <td>banyak yg bilang pemerintahan ini lumayan dar...</td>\n",
       "      <td>fear</td>\n",
       "      <td>trust</td>\n",
       "    </tr>\n",
       "    <tr>\n",
       "      <th>7</th>\n",
       "      <td>pengacara setya novanto kita diperkosa</td>\n",
       "      <td>fear</td>\n",
       "      <td>trust</td>\n",
       "    </tr>\n",
       "    <tr>\n",
       "      <th>8</th>\n",
       "      <td>jika menang pun kalah dimata allah nhebat do...</td>\n",
       "      <td>fear</td>\n",
       "      <td>trust</td>\n",
       "    </tr>\n",
       "    <tr>\n",
       "      <th>9</th>\n",
       "      <td>rusuh di debat publik pilgub jabar gara gara p...</td>\n",
       "      <td>fear</td>\n",
       "      <td>joy</td>\n",
       "    </tr>\n",
       "    <tr>\n",
       "      <th>10</th>\n",
       "      <td>hanura pertegas dukung jokowi</td>\n",
       "      <td>trust</td>\n",
       "      <td>trust</td>\n",
       "    </tr>\n",
       "    <tr>\n",
       "      <th>11</th>\n",
       "      <td>sambil nunggu buka puasa biasanya saya membaca...</td>\n",
       "      <td>trust</td>\n",
       "      <td>trust</td>\n",
       "    </tr>\n",
       "    <tr>\n",
       "      <th>12</th>\n",
       "      <td>politisi yg msh memperdebatkan urgentsi uu ant...</td>\n",
       "      <td>trust</td>\n",
       "      <td>anger</td>\n",
       "    </tr>\n",
       "    <tr>\n",
       "      <th>13</th>\n",
       "      <td>seluruh rakyat juga udh pahamkalo pepo itu m...</td>\n",
       "      <td>trust</td>\n",
       "      <td>anger</td>\n",
       "    </tr>\n",
       "    <tr>\n",
       "      <th>14</th>\n",
       "      <td>amien rais prabowo dan mahathir klop sikapnya ...</td>\n",
       "      <td>trust</td>\n",
       "      <td>trust</td>\n",
       "    </tr>\n",
       "    <tr>\n",
       "      <th>15</th>\n",
       "      <td>pernyataan amien rais soal partai setan tak ce...</td>\n",
       "      <td>anger</td>\n",
       "      <td>fear</td>\n",
       "    </tr>\n",
       "    <tr>\n",
       "      <th>16</th>\n",
       "      <td>ridwan kamil vs deddy mizwar memanas di debat...</td>\n",
       "      <td>anger</td>\n",
       "      <td>joy</td>\n",
       "    </tr>\n",
       "    <tr>\n",
       "      <th>17</th>\n",
       "      <td>emang yg satu nya lg sudah deklarasi sebaga...</td>\n",
       "      <td>anger</td>\n",
       "      <td>anger</td>\n",
       "    </tr>\n",
       "    <tr>\n",
       "      <th>18</th>\n",
       "      <td>nah itu dari k maren ke mana sj pd tidur menga...</td>\n",
       "      <td>anger</td>\n",
       "      <td>anger</td>\n",
       "    </tr>\n",
       "    <tr>\n",
       "      <th>19</th>\n",
       "      <td>kita tunggu nyinyiran  yg biasanya selalu bel...</td>\n",
       "      <td>anger</td>\n",
       "      <td>joy</td>\n",
       "    </tr>\n",
       "    <tr>\n",
       "      <th>20</th>\n",
       "      <td>airlangga hartarto masih di ceko pertemuan den...</td>\n",
       "      <td>anticipation</td>\n",
       "      <td>trust</td>\n",
       "    </tr>\n",
       "    <tr>\n",
       "      <th>21</th>\n",
       "      <td>sabar iya nanti kan habis terjual kan mau le...</td>\n",
       "      <td>anticipation</td>\n",
       "      <td>anticipation</td>\n",
       "    </tr>\n",
       "    <tr>\n",
       "      <th>22</th>\n",
       "      <td>bgamna membuka kembali fb lama bila kata sandi...</td>\n",
       "      <td>anticipation</td>\n",
       "      <td>anticipation</td>\n",
       "    </tr>\n",
       "    <tr>\n",
       "      <th>23</th>\n",
       "      <td>minta info dong kalau saya mau join jualan his...</td>\n",
       "      <td>anticipation</td>\n",
       "      <td>anticipation</td>\n",
       "    </tr>\n",
       "    <tr>\n",
       "      <th>24</th>\n",
       "      <td>untung g lom cobain p g liat komen orang dulu ...</td>\n",
       "      <td>anticipation</td>\n",
       "      <td>anger</td>\n",
       "    </tr>\n",
       "    <tr>\n",
       "      <th>25</th>\n",
       "      <td>wkwkwk sdh tahulah kita   itu siapa kalau ...</td>\n",
       "      <td>disgust</td>\n",
       "      <td>trust</td>\n",
       "    </tr>\n",
       "    <tr>\n",
       "      <th>26</th>\n",
       "      <td>tiap hari kerjaannya menghakimi orang mul...</td>\n",
       "      <td>disgust</td>\n",
       "      <td>anger</td>\n",
       "    </tr>\n",
       "    <tr>\n",
       "      <th>27</th>\n",
       "      <td>wis ga taukomentareehh kok yo ada yg komen...</td>\n",
       "      <td>disgust</td>\n",
       "      <td>anticipation</td>\n",
       "    </tr>\n",
       "    <tr>\n",
       "      <th>28</th>\n",
       "      <td>mungkin  seperti anda gak jilat gak mama...</td>\n",
       "      <td>disgust</td>\n",
       "      <td>anger</td>\n",
       "    </tr>\n",
       "    <tr>\n",
       "      <th>29</th>\n",
       "      <td>sabar cuk jangan emosi ntar makin akut gil...</td>\n",
       "      <td>disgust</td>\n",
       "      <td>anger</td>\n",
       "    </tr>\n",
       "    <tr>\n",
       "      <th>30</th>\n",
       "      <td>selamat paginmohon maaf kami tidak menjalankan...</td>\n",
       "      <td>sadness</td>\n",
       "      <td>joy</td>\n",
       "    </tr>\n",
       "    <tr>\n",
       "      <th>31</th>\n",
       "      <td>sahabat pembangunan kami turut berduka atas in...</td>\n",
       "      <td>sadness</td>\n",
       "      <td>sadness</td>\n",
       "    </tr>\n",
       "    <tr>\n",
       "      <th>32</th>\n",
       "      <td>mulai kapan nih kmrn sy bukber di mcd kalibata...</td>\n",
       "      <td>sadness</td>\n",
       "      <td>joy</td>\n",
       "    </tr>\n",
       "    <tr>\n",
       "      <th>33</th>\n",
       "      <td>nomor invoie  sudah dibayar sampai sekarang bl...</td>\n",
       "      <td>sadness</td>\n",
       "      <td>sadness</td>\n",
       "    </tr>\n",
       "    <tr>\n",
       "      <th>34</th>\n",
       "      <td>prabowo subianto nyatakan duka cita untuk korb...</td>\n",
       "      <td>sadness</td>\n",
       "      <td>joy</td>\n",
       "    </tr>\n",
       "    <tr>\n",
       "      <th>35</th>\n",
       "      <td>hbd y  nnkadonya pan kapan aja y wkkw</td>\n",
       "      <td>surprise</td>\n",
       "      <td>anticipation</td>\n",
       "    </tr>\n",
       "    <tr>\n",
       "      <th>36</th>\n",
       "      <td>simak pentingnnjokowi terancam batal nyapresno...</td>\n",
       "      <td>surprise</td>\n",
       "      <td>trust</td>\n",
       "    </tr>\n",
       "    <tr>\n",
       "      <th>37</th>\n",
       "      <td>untuk memanjakan matamu dari sinar matahari ya...</td>\n",
       "      <td>surprise</td>\n",
       "      <td>trust</td>\n",
       "    </tr>\n",
       "    <tr>\n",
       "      <th>38</th>\n",
       "      <td>sampe jam  malam ini</td>\n",
       "      <td>surprise</td>\n",
       "      <td>joy</td>\n",
       "    </tr>\n",
       "    <tr>\n",
       "      <th>39</th>\n",
       "      <td>jokowi batal hadir di pembukaan rakernas hanur...</td>\n",
       "      <td>surprise</td>\n",
       "      <td>joy</td>\n",
       "    </tr>\n",
       "  </tbody>\n",
       "</table>\n",
       "</div>"
      ],
      "text/plain": [
       "                                final_cleaned_content annotation.labels  \\\n",
       "0   catatan dari materi pak menteri  bahwa indones...               joy   \n",
       "1   bersama prof mahfud md nketua umum ppp m romah...               joy   \n",
       "2   live  silaturahmi  dng kh maghfur i amp pengur...               joy   \n",
       "3   buka puasa jadi lebih nikmat  dengan paket ber...               joy   \n",
       "4                               maju terus para penge               joy   \n",
       "5       seharusnya yang perlu di pertanyakan itu j...              fear   \n",
       "6    banyak yg bilang pemerintahan ini lumayan dar...              fear   \n",
       "7              pengacara setya novanto kita diperkosa              fear   \n",
       "8     jika menang pun kalah dimata allah nhebat do...              fear   \n",
       "9   rusuh di debat publik pilgub jabar gara gara p...              fear   \n",
       "10                      hanura pertegas dukung jokowi             trust   \n",
       "11  sambil nunggu buka puasa biasanya saya membaca...             trust   \n",
       "12  politisi yg msh memperdebatkan urgentsi uu ant...             trust   \n",
       "13    seluruh rakyat juga udh pahamkalo pepo itu m...             trust   \n",
       "14  amien rais prabowo dan mahathir klop sikapnya ...             trust   \n",
       "15  pernyataan amien rais soal partai setan tak ce...             anger   \n",
       "16   ridwan kamil vs deddy mizwar memanas di debat...             anger   \n",
       "17     emang yg satu nya lg sudah deklarasi sebaga...             anger   \n",
       "18  nah itu dari k maren ke mana sj pd tidur menga...             anger   \n",
       "19   kita tunggu nyinyiran  yg biasanya selalu bel...             anger   \n",
       "20  airlangga hartarto masih di ceko pertemuan den...      anticipation   \n",
       "21    sabar iya nanti kan habis terjual kan mau le...      anticipation   \n",
       "22  bgamna membuka kembali fb lama bila kata sandi...      anticipation   \n",
       "23  minta info dong kalau saya mau join jualan his...      anticipation   \n",
       "24  untung g lom cobain p g liat komen orang dulu ...      anticipation   \n",
       "25      wkwkwk sdh tahulah kita   itu siapa kalau ...           disgust   \n",
       "26       tiap hari kerjaannya menghakimi orang mul...           disgust   \n",
       "27      wis ga taukomentareehh kok yo ada yg komen...           disgust   \n",
       "28        mungkin  seperti anda gak jilat gak mama...           disgust   \n",
       "29      sabar cuk jangan emosi ntar makin akut gil...           disgust   \n",
       "30  selamat paginmohon maaf kami tidak menjalankan...           sadness   \n",
       "31  sahabat pembangunan kami turut berduka atas in...           sadness   \n",
       "32  mulai kapan nih kmrn sy bukber di mcd kalibata...           sadness   \n",
       "33  nomor invoie  sudah dibayar sampai sekarang bl...           sadness   \n",
       "34  prabowo subianto nyatakan duka cita untuk korb...           sadness   \n",
       "35              hbd y  nnkadonya pan kapan aja y wkkw          surprise   \n",
       "36  simak pentingnnjokowi terancam batal nyapresno...          surprise   \n",
       "37  untuk memanjakan matamu dari sinar matahari ya...          surprise   \n",
       "38                               sampe jam  malam ini          surprise   \n",
       "39  jokowi batal hadir di pembukaan rakernas hanur...          surprise   \n",
       "\n",
       "      prediction  \n",
       "0          trust  \n",
       "1            joy  \n",
       "2            joy  \n",
       "3            joy  \n",
       "4          trust  \n",
       "5          trust  \n",
       "6          trust  \n",
       "7          trust  \n",
       "8          trust  \n",
       "9            joy  \n",
       "10         trust  \n",
       "11         trust  \n",
       "12         anger  \n",
       "13         anger  \n",
       "14         trust  \n",
       "15          fear  \n",
       "16           joy  \n",
       "17         anger  \n",
       "18         anger  \n",
       "19           joy  \n",
       "20         trust  \n",
       "21  anticipation  \n",
       "22  anticipation  \n",
       "23  anticipation  \n",
       "24         anger  \n",
       "25         trust  \n",
       "26         anger  \n",
       "27  anticipation  \n",
       "28         anger  \n",
       "29         anger  \n",
       "30           joy  \n",
       "31       sadness  \n",
       "32           joy  \n",
       "33       sadness  \n",
       "34           joy  \n",
       "35  anticipation  \n",
       "36         trust  \n",
       "37         trust  \n",
       "38           joy  \n",
       "39           joy  "
      ]
     },
     "execution_count": 158,
     "metadata": {},
     "output_type": "execute_result"
    }
   ],
   "source": [
    "# Saving predictions on holdout set along with the correct in the dataframe\n",
    "df_holdout['prediction'] = linear_svc_best_model.predict(X_holdout)\n",
    "df_holdout['prediction'] = df_holdout['prediction'].apply(lambda x: le.inverse_transform([x])[0])\n",
    "\n",
    "df_holdout[['final_cleaned_content', 'annotation.labels', 'prediction']]"
   ]
  },
  {
   "cell_type": "markdown",
   "metadata": {},
   "source": [
    "### Fasttext embedding based classification"
   ]
  },
  {
   "cell_type": "code",
   "execution_count": 159,
   "metadata": {},
   "outputs": [],
   "source": [
    "import fasttext"
   ]
  },
  {
   "cell_type": "code",
   "execution_count": 160,
   "metadata": {},
   "outputs": [
    {
     "name": "stderr",
     "output_type": "stream",
     "text": [
      "Warning : `load_model` does not return WordVectorModel or SupervisedModel any more, but a `FastText` object which is very similar.\n"
     ]
    }
   ],
   "source": [
    "ft = fasttext.load_model('./cc.id.300.bin')"
   ]
  },
  {
   "cell_type": "code",
   "execution_count": 161,
   "metadata": {},
   "outputs": [
    {
     "data": {
      "text/plain": [
       "300"
      ]
     },
     "execution_count": 161,
     "metadata": {},
     "output_type": "execute_result"
    }
   ],
   "source": [
    "ft.get_dimension()"
   ]
  },
  {
   "cell_type": "code",
   "execution_count": 162,
   "metadata": {},
   "outputs": [],
   "source": [
    "all_words = []\n",
    "\n",
    "for _, row in tweets_df.iterrows():\n",
    "    tweet = row['final_cleaned_content']\n",
    "    tweet = tweet.split()\n",
    "    all_words.extend(tweet)\n",
    "\n",
    "all_words = list(set(all_words))"
   ]
  },
  {
   "cell_type": "code",
   "execution_count": 163,
   "metadata": {},
   "outputs": [
    {
     "data": {
      "text/plain": [
       "18549"
      ]
     },
     "execution_count": 163,
     "metadata": {},
     "output_type": "execute_result"
    }
   ],
   "source": [
    "len(all_words)"
   ]
  },
  {
   "cell_type": "code",
   "execution_count": 164,
   "metadata": {},
   "outputs": [],
   "source": [
    "wv_dictionary = {w: ft.get_word_vector(w) for w in all_words}"
   ]
  },
  {
   "cell_type": "code",
   "execution_count": 165,
   "metadata": {},
   "outputs": [],
   "source": [
    "import pickle\n",
    "with open('./ft_wv.pickle', 'wb') as f_obj:\n",
    "    pickle.dump(wv_dictionary, f_obj)"
   ]
  },
  {
   "cell_type": "code",
   "execution_count": 166,
   "metadata": {},
   "outputs": [],
   "source": [
    "class MeanEmbeddingVectorizer(object):\n",
    "    def __init__(self, ft_wv):\n",
    "        self.ft_wv = ft_wv\n",
    "        if len(ft_wv) > 0:\n",
    "            self.dim = ft_wv[next(iter(all_words))].shape[0]\n",
    "        else:\n",
    "            self.dim = 0\n",
    "    \n",
    "    def fit(self, X, y):\n",
    "        return self\n",
    "    \n",
    "    def transform(self, X):\n",
    "        return np.array(\n",
    "            [np.mean([self.ft_wv[w] for w in words if w in self.ft_wv] or [np.zeros(self.dim)], axis=0)\n",
    "             for words in X\n",
    "            ])"
   ]
  },
  {
   "cell_type": "code",
   "execution_count": 185,
   "metadata": {},
   "outputs": [],
   "source": [
    "linearsvc_w2v = Pipeline([(\"ft_vectorizer\", MeanEmbeddingVectorizer(wv_dictionary)),\n",
    "                      (\"linear_svc\", LinearSVC(C=1.0, class_weight=None, dual=True, fit_intercept=True,\n",
    "     intercept_scaling=1, loss='squared_hinge', max_iter=1000,\n",
    "     multi_class='ovr', penalty='l2', random_state=None, tol=0.0001,\n",
    "     verbose=0))])"
   ]
  },
  {
   "cell_type": "code",
   "execution_count": 181,
   "metadata": {},
   "outputs": [],
   "source": [
    "tweets_df = tweets_df[tweets_df['annotation.labels'] != 'other']\n",
    "tweets_df['labels'] = tweets_df['annotation.labels'].apply(lambda x: le.transform([x])[0])"
   ]
  },
  {
   "cell_type": "code",
   "execution_count": 182,
   "metadata": {},
   "outputs": [],
   "source": [
    "X = tweets_df['final_cleaned_content'].astype(str)\n",
    "y = tweets_df['labels']"
   ]
  },
  {
   "cell_type": "code",
   "execution_count": 186,
   "metadata": {},
   "outputs": [],
   "source": [
    "cv_score = cross_val_score(linearsvc_w2v, X, y, cv=5 , scoring='f1_macro')"
   ]
  },
  {
   "cell_type": "code",
   "execution_count": 190,
   "metadata": {},
   "outputs": [
    {
     "data": {
      "text/plain": [
       "0.12944802609022166"
      ]
     },
     "execution_count": 190,
     "metadata": {},
     "output_type": "execute_result"
    }
   ],
   "source": [
    "cv_score.mean()"
   ]
  }
 ],
 "metadata": {
  "kernelspec": {
   "display_name": "Python 3",
   "language": "python",
   "name": "python3"
  },
  "language_info": {
   "codemirror_mode": {
    "name": "ipython",
    "version": 3
   },
   "file_extension": ".py",
   "mimetype": "text/x-python",
   "name": "python",
   "nbconvert_exporter": "python",
   "pygments_lexer": "ipython3",
   "version": "3.7.3"
  }
 },
 "nbformat": 4,
 "nbformat_minor": 2
}
