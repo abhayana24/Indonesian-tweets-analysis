{
 "cells": [
  {
   "cell_type": "code",
   "execution_count": 49,
   "metadata": {},
   "outputs": [
    {
     "data": {
      "text/html": [
       "<style>.container { width:95% !important; }</style>"
      ],
      "text/plain": [
       "<IPython.core.display.HTML object>"
      ]
     },
     "metadata": {},
     "output_type": "display_data"
    }
   ],
   "source": [
    "import pandas as pd\n",
    "import matplotlib.pyplot as plt\n",
    "from collections import Counter\n",
    "from string import punctuation\n",
    "import numpy as np\n",
    "import json\n",
    "import re\n",
    "\n",
    "%matplotlib inline\n",
    "\n",
    "from IPython.core.display import display, HTML\n",
    "display(HTML(\"<style>.container { width:95% !important; }</style>\"))\n",
    "import warnings\n",
    "warnings.filterwarnings('ignore')\n",
    "pd.options.display.float_format = '{:,.2f}'.format"
   ]
  },
  {
   "cell_type": "code",
   "execution_count": 2,
   "metadata": {},
   "outputs": [],
   "source": [
    "# Loading JSON data\n",
    "with open('./emotion_id_tweets.json', 'r') as f_obj:\n",
    "    tweets_data = [json.loads(line) for line in f_obj]"
   ]
  },
  {
   "cell_type": "code",
   "execution_count": 3,
   "metadata": {},
   "outputs": [
    {
     "data": {
      "text/plain": [
       "{'content': '@04Nakula @jokowi @prabowo @Gerindra @DailymotionUSA pdhl poros ke3 ini sebenarnya mau nelikung koalisi dr @prabowo…',\n",
       " 'annotation': {'labels': ['joy'], 'note': ''},\n",
       " 'extras': None,\n",
       " 'metadata': {'first_done_at': 1527710555000,\n",
       "  'last_updated_at': 1527710555000,\n",
       "  'sec_taken': 6,\n",
       "  'last_updated_by': 'a31puKbtO4fdTOgO7YPfppu3GR52',\n",
       "  'status': 'done',\n",
       "  'evaluation': 'NONE'}}"
      ]
     },
     "execution_count": 3,
     "metadata": {},
     "output_type": "execute_result"
    }
   ],
   "source": [
    "tweets_data[0]"
   ]
  },
  {
   "cell_type": "code",
   "execution_count": 4,
   "metadata": {},
   "outputs": [
    {
     "data": {
      "text/plain": [
       "8682"
      ]
     },
     "execution_count": 4,
     "metadata": {},
     "output_type": "execute_result"
    }
   ],
   "source": [
    "len(tweets_data)"
   ]
  },
  {
   "cell_type": "code",
   "execution_count": 5,
   "metadata": {},
   "outputs": [],
   "source": [
    "# Converting the json data to pandas dataframe\n",
    "tweets_df = pd.DataFrame(tweets_data)"
   ]
  },
  {
   "cell_type": "code",
   "execution_count": 6,
   "metadata": {},
   "outputs": [
    {
     "data": {
      "text/plain": [
       "array([None], dtype=object)"
      ]
     },
     "execution_count": 6,
     "metadata": {},
     "output_type": "execute_result"
    }
   ],
   "source": [
    "tweets_df['extras'].unique()"
   ]
  },
  {
   "cell_type": "code",
   "execution_count": 7,
   "metadata": {},
   "outputs": [],
   "source": [
    "from pandas.io.json import json_normalize"
   ]
  },
  {
   "cell_type": "code",
   "execution_count": 8,
   "metadata": {},
   "outputs": [],
   "source": [
    "tweets_df_norm = json_normalize(tweets_data)"
   ]
  },
  {
   "cell_type": "code",
   "execution_count": 9,
   "metadata": {},
   "outputs": [
    {
     "data": {
      "text/html": [
       "<div>\n",
       "<style scoped>\n",
       "    .dataframe tbody tr th:only-of-type {\n",
       "        vertical-align: middle;\n",
       "    }\n",
       "\n",
       "    .dataframe tbody tr th {\n",
       "        vertical-align: top;\n",
       "    }\n",
       "\n",
       "    .dataframe thead th {\n",
       "        text-align: right;\n",
       "    }\n",
       "</style>\n",
       "<table border=\"1\" class=\"dataframe\">\n",
       "  <thead>\n",
       "    <tr style=\"text-align: right;\">\n",
       "      <th></th>\n",
       "      <th>annotation.labels</th>\n",
       "      <th>annotation.note</th>\n",
       "      <th>content</th>\n",
       "      <th>extras</th>\n",
       "      <th>metadata.evaluation</th>\n",
       "      <th>metadata.first_done_at</th>\n",
       "      <th>metadata.last_updated_at</th>\n",
       "      <th>metadata.last_updated_by</th>\n",
       "      <th>metadata.sec_taken</th>\n",
       "      <th>metadata.status</th>\n",
       "    </tr>\n",
       "  </thead>\n",
       "  <tbody>\n",
       "    <tr>\n",
       "      <th>0</th>\n",
       "      <td>[joy]</td>\n",
       "      <td></td>\n",
       "      <td>@04Nakula @jokowi @prabowo @Gerindra @Dailymot...</td>\n",
       "      <td>None</td>\n",
       "      <td>NONE</td>\n",
       "      <td>1527710555000</td>\n",
       "      <td>1527710555000</td>\n",
       "      <td>a31puKbtO4fdTOgO7YPfppu3GR52</td>\n",
       "      <td>6</td>\n",
       "      <td>done</td>\n",
       "    </tr>\n",
       "    <tr>\n",
       "      <th>1</th>\n",
       "      <td>[joy]</td>\n",
       "      <td></td>\n",
       "      <td>@Achmadr06327297 @fadlizon @Gerindra @prabowo ...</td>\n",
       "      <td>None</td>\n",
       "      <td>NONE</td>\n",
       "      <td>1527984453000</td>\n",
       "      <td>1527984453000</td>\n",
       "      <td>a31puKbtO4fdTOgO7YPfppu3GR52</td>\n",
       "      <td>93</td>\n",
       "      <td>done</td>\n",
       "    </tr>\n",
       "    <tr>\n",
       "      <th>2</th>\n",
       "      <td>[fear]</td>\n",
       "      <td></td>\n",
       "      <td>@Gerindra @PKSejahtera @prabowo Seandainya sek...</td>\n",
       "      <td>None</td>\n",
       "      <td>NONE</td>\n",
       "      <td>1528396641000</td>\n",
       "      <td>1528396641000</td>\n",
       "      <td>a31puKbtO4fdTOgO7YPfppu3GR52</td>\n",
       "      <td>9</td>\n",
       "      <td>done</td>\n",
       "    </tr>\n",
       "    <tr>\n",
       "      <th>3</th>\n",
       "      <td>[joy]</td>\n",
       "      <td></td>\n",
       "      <td>@fadlizon @Gerindra @prabowo Saya dukung pak p...</td>\n",
       "      <td>None</td>\n",
       "      <td>NONE</td>\n",
       "      <td>1527988971000</td>\n",
       "      <td>1527988971000</td>\n",
       "      <td>a31puKbtO4fdTOgO7YPfppu3GR52</td>\n",
       "      <td>7</td>\n",
       "      <td>done</td>\n",
       "    </tr>\n",
       "    <tr>\n",
       "      <th>4</th>\n",
       "      <td>[trust]</td>\n",
       "      <td></td>\n",
       "      <td>@Gerindra @PKSejahtera Mencari yang setia dan ...</td>\n",
       "      <td>None</td>\n",
       "      <td>NONE</td>\n",
       "      <td>1528445338000</td>\n",
       "      <td>1528445338000</td>\n",
       "      <td>a31puKbtO4fdTOgO7YPfppu3GR52</td>\n",
       "      <td>7</td>\n",
       "      <td>done</td>\n",
       "    </tr>\n",
       "  </tbody>\n",
       "</table>\n",
       "</div>"
      ],
      "text/plain": [
       "  annotation.labels annotation.note  \\\n",
       "0             [joy]                   \n",
       "1             [joy]                   \n",
       "2            [fear]                   \n",
       "3             [joy]                   \n",
       "4           [trust]                   \n",
       "\n",
       "                                             content extras  \\\n",
       "0  @04Nakula @jokowi @prabowo @Gerindra @Dailymot...   None   \n",
       "1  @Achmadr06327297 @fadlizon @Gerindra @prabowo ...   None   \n",
       "2  @Gerindra @PKSejahtera @prabowo Seandainya sek...   None   \n",
       "3  @fadlizon @Gerindra @prabowo Saya dukung pak p...   None   \n",
       "4  @Gerindra @PKSejahtera Mencari yang setia dan ...   None   \n",
       "\n",
       "  metadata.evaluation  metadata.first_done_at  metadata.last_updated_at  \\\n",
       "0                NONE           1527710555000             1527710555000   \n",
       "1                NONE           1527984453000             1527984453000   \n",
       "2                NONE           1528396641000             1528396641000   \n",
       "3                NONE           1527988971000             1527988971000   \n",
       "4                NONE           1528445338000             1528445338000   \n",
       "\n",
       "       metadata.last_updated_by  metadata.sec_taken metadata.status  \n",
       "0  a31puKbtO4fdTOgO7YPfppu3GR52                   6            done  \n",
       "1  a31puKbtO4fdTOgO7YPfppu3GR52                  93            done  \n",
       "2  a31puKbtO4fdTOgO7YPfppu3GR52                   9            done  \n",
       "3  a31puKbtO4fdTOgO7YPfppu3GR52                   7            done  \n",
       "4  a31puKbtO4fdTOgO7YPfppu3GR52                   7            done  "
      ]
     },
     "execution_count": 9,
     "metadata": {},
     "output_type": "execute_result"
    }
   ],
   "source": [
    "tweets_df_norm.head()"
   ]
  },
  {
   "cell_type": "code",
   "execution_count": 10,
   "metadata": {},
   "outputs": [
    {
     "name": "stdout",
     "output_type": "stream",
     "text": [
      "<class 'pandas.core.frame.DataFrame'>\n",
      "RangeIndex: 8682 entries, 0 to 8681\n",
      "Data columns (total 10 columns):\n",
      "annotation.labels           8682 non-null object\n",
      "annotation.note             8682 non-null object\n",
      "content                     8682 non-null object\n",
      "extras                      0 non-null object\n",
      "metadata.evaluation         8682 non-null object\n",
      "metadata.first_done_at      8682 non-null int64\n",
      "metadata.last_updated_at    8682 non-null int64\n",
      "metadata.last_updated_by    8682 non-null object\n",
      "metadata.sec_taken          8682 non-null int64\n",
      "metadata.status             8682 non-null object\n",
      "dtypes: int64(3), object(7)\n",
      "memory usage: 678.4+ KB\n"
     ]
    }
   ],
   "source": [
    "tweets_df_norm.info()"
   ]
  },
  {
   "cell_type": "code",
   "execution_count": 11,
   "metadata": {},
   "outputs": [
    {
     "data": {
      "text/plain": [
       "          8669\n",
       "kosong       7\n",
       "Kosong       6\n",
       "Name: annotation.note, dtype: int64"
      ]
     },
     "execution_count": 11,
     "metadata": {},
     "output_type": "execute_result"
    }
   ],
   "source": [
    "tweets_df_norm['annotation.note'].value_counts()"
   ]
  },
  {
   "cell_type": "code",
   "execution_count": 12,
   "metadata": {},
   "outputs": [
    {
     "data": {
      "text/plain": [
       "array([None], dtype=object)"
      ]
     },
     "execution_count": 12,
     "metadata": {},
     "output_type": "execute_result"
    }
   ],
   "source": [
    "tweets_df_norm['extras'].unique()"
   ]
  },
  {
   "cell_type": "code",
   "execution_count": 13,
   "metadata": {},
   "outputs": [
    {
     "data": {
      "text/plain": [
       "array(['NONE'], dtype=object)"
      ]
     },
     "execution_count": 13,
     "metadata": {},
     "output_type": "execute_result"
    }
   ],
   "source": [
    "tweets_df_norm['metadata.evaluation'].unique()"
   ]
  },
  {
   "cell_type": "code",
   "execution_count": 14,
   "metadata": {},
   "outputs": [
    {
     "data": {
      "text/plain": [
       "array(['a31puKbtO4fdTOgO7YPfppu3GR52'], dtype=object)"
      ]
     },
     "execution_count": 14,
     "metadata": {},
     "output_type": "execute_result"
    }
   ],
   "source": [
    "tweets_df_norm['metadata.last_updated_by'].unique()"
   ]
  },
  {
   "cell_type": "code",
   "execution_count": 15,
   "metadata": {},
   "outputs": [
    {
     "data": {
      "text/plain": [
       "array(['done'], dtype=object)"
      ]
     },
     "execution_count": 15,
     "metadata": {},
     "output_type": "execute_result"
    }
   ],
   "source": [
    "tweets_df_norm['metadata.status'].unique()"
   ]
  },
  {
   "cell_type": "code",
   "execution_count": 16,
   "metadata": {},
   "outputs": [],
   "source": [
    "tweets_df_norm['annotation.labels'] = tweets_df_norm['annotation.labels'].apply(lambda x: x[0] if len(x) > 0 else 'other')"
   ]
  },
  {
   "cell_type": "code",
   "execution_count": 17,
   "metadata": {
    "scrolled": true
   },
   "outputs": [
    {
     "data": {
      "text/plain": [
       "joy             2327\n",
       "trust           1879\n",
       "anticipation    1457\n",
       "anger            996\n",
       "sadness          738\n",
       "fear             624\n",
       "disgust          554\n",
       "surprise          92\n",
       "other             15\n",
       "Name: annotation.labels, dtype: int64"
      ]
     },
     "execution_count": 17,
     "metadata": {},
     "output_type": "execute_result"
    }
   ],
   "source": [
    "tweets_df_norm['annotation.labels'].value_counts()"
   ]
  },
  {
   "cell_type": "markdown",
   "metadata": {},
   "source": [
    "#### Based on the above analysis, we found that, \n",
    "* \"note\", \"evaluation\", \"last_updated_by\", \"status\" are redundant columns, so we'll remove these columns. \n",
    "* Since not much info is available about \"first_done_at\", \"last_updated_at\" and \"sec_taken\". So we'll remove these as well from our analysis\n",
    "* Regarding labels, there are 15 rows whose value is empty string, these values have been replaced by \"others\" category"
   ]
  },
  {
   "cell_type": "code",
   "execution_count": 18,
   "metadata": {},
   "outputs": [
    {
     "data": {
      "text/plain": [
       "True"
      ]
     },
     "execution_count": 18,
     "metadata": {},
     "output_type": "execute_result"
    }
   ],
   "source": [
    "# Checking if 'metadata.first_done_at' and 'metadata.last_updated_at' have same values\n",
    "tweets_df_norm['metadata.first_done_at'].equals(tweets_df_norm['metadata.last_updated_at'])"
   ]
  },
  {
   "cell_type": "code",
   "execution_count": 19,
   "metadata": {},
   "outputs": [],
   "source": [
    "unwanted_columns = ['annotation.note', 'extras', 'metadata.evaluation', 'metadata.status', 'metadata.first_done_at',\n",
    "                    'metadata.last_updated_at', 'metadata.last_updated_by', 'metadata.last_updated_by', 'metadata.sec_taken']\n",
    "tweets_df_norm.drop(unwanted_columns, axis=1, inplace=True)"
   ]
  },
  {
   "cell_type": "code",
   "execution_count": 20,
   "metadata": {},
   "outputs": [
    {
     "data": {
      "text/html": [
       "<div>\n",
       "<style scoped>\n",
       "    .dataframe tbody tr th:only-of-type {\n",
       "        vertical-align: middle;\n",
       "    }\n",
       "\n",
       "    .dataframe tbody tr th {\n",
       "        vertical-align: top;\n",
       "    }\n",
       "\n",
       "    .dataframe thead th {\n",
       "        text-align: right;\n",
       "    }\n",
       "</style>\n",
       "<table border=\"1\" class=\"dataframe\">\n",
       "  <thead>\n",
       "    <tr style=\"text-align: right;\">\n",
       "      <th></th>\n",
       "      <th>annotation.labels</th>\n",
       "      <th>content</th>\n",
       "    </tr>\n",
       "  </thead>\n",
       "  <tbody>\n",
       "    <tr>\n",
       "      <th>0</th>\n",
       "      <td>joy</td>\n",
       "      <td>@04Nakula @jokowi @prabowo @Gerindra @Dailymot...</td>\n",
       "    </tr>\n",
       "    <tr>\n",
       "      <th>1</th>\n",
       "      <td>joy</td>\n",
       "      <td>@Achmadr06327297 @fadlizon @Gerindra @prabowo ...</td>\n",
       "    </tr>\n",
       "    <tr>\n",
       "      <th>2</th>\n",
       "      <td>fear</td>\n",
       "      <td>@Gerindra @PKSejahtera @prabowo Seandainya sek...</td>\n",
       "    </tr>\n",
       "    <tr>\n",
       "      <th>3</th>\n",
       "      <td>joy</td>\n",
       "      <td>@fadlizon @Gerindra @prabowo Saya dukung pak p...</td>\n",
       "    </tr>\n",
       "    <tr>\n",
       "      <th>4</th>\n",
       "      <td>trust</td>\n",
       "      <td>@Gerindra @PKSejahtera Mencari yang setia dan ...</td>\n",
       "    </tr>\n",
       "  </tbody>\n",
       "</table>\n",
       "</div>"
      ],
      "text/plain": [
       "  annotation.labels                                            content\n",
       "0               joy  @04Nakula @jokowi @prabowo @Gerindra @Dailymot...\n",
       "1               joy  @Achmadr06327297 @fadlizon @Gerindra @prabowo ...\n",
       "2              fear  @Gerindra @PKSejahtera @prabowo Seandainya sek...\n",
       "3               joy  @fadlizon @Gerindra @prabowo Saya dukung pak p...\n",
       "4             trust  @Gerindra @PKSejahtera Mencari yang setia dan ..."
      ]
     },
     "execution_count": 20,
     "metadata": {},
     "output_type": "execute_result"
    }
   ],
   "source": [
    "tweets_df_norm.head()"
   ]
  },
  {
   "cell_type": "code",
   "execution_count": 21,
   "metadata": {},
   "outputs": [],
   "source": [
    "# Cleaning the tweets, removing punctuations and special characters and lowercasing\n",
    "\n",
    "# Removing '#' and '@' from the list of punctuations( we need to extract hashtags and mentions)\n",
    "punctuation = punctuation.replace('#', '').replace('@', '')\n",
    "\n",
    "# Found this character in thw data which is different from period character\n",
    "punctuation = punctuation + '…'\n",
    "\n",
    "def process_tweet(tweet):\n",
    "    tweet = tweet.encode('ascii', 'ignore').decode('ascii')\n",
    "    tweet = tweet.lower()\n",
    "    for char in tweet:\n",
    "        if char in punctuation:\n",
    "            tweet = tweet.replace(char, '')\n",
    "    tweet = tweet.replace('\\\\n', '')\n",
    "    tweet = ''.join(word for word in tweet if not word.isdigit())\n",
    "    \n",
    "    return tweet\n",
    "\n",
    "\n",
    "tweets_df_norm['cleaned_content'] = tweets_df_norm['content'].apply(lambda x: process_tweet(x))"
   ]
  },
  {
   "cell_type": "code",
   "execution_count": 22,
   "metadata": {},
   "outputs": [
    {
     "data": {
      "text/plain": [
       "annotation.labels    0\n",
       "content              0\n",
       "cleaned_content      0\n",
       "dtype: int64"
      ]
     },
     "execution_count": 22,
     "metadata": {},
     "output_type": "execute_result"
    }
   ],
   "source": [
    "# Check for NaNs\n",
    "\n",
    "tweets_df_norm.isnull().sum()"
   ]
  },
  {
   "cell_type": "code",
   "execution_count": 23,
   "metadata": {},
   "outputs": [
    {
     "data": {
      "text/html": [
       "<div>\n",
       "<style scoped>\n",
       "    .dataframe tbody tr th:only-of-type {\n",
       "        vertical-align: middle;\n",
       "    }\n",
       "\n",
       "    .dataframe tbody tr th {\n",
       "        vertical-align: top;\n",
       "    }\n",
       "\n",
       "    .dataframe thead th {\n",
       "        text-align: right;\n",
       "    }\n",
       "</style>\n",
       "<table border=\"1\" class=\"dataframe\">\n",
       "  <thead>\n",
       "    <tr style=\"text-align: right;\">\n",
       "      <th></th>\n",
       "      <th>annotation.labels</th>\n",
       "      <th>content</th>\n",
       "      <th>cleaned_content</th>\n",
       "      <th>word_count</th>\n",
       "    </tr>\n",
       "  </thead>\n",
       "  <tbody>\n",
       "    <tr>\n",
       "      <th>0</th>\n",
       "      <td>joy</td>\n",
       "      <td>@04Nakula @jokowi @prabowo @Gerindra @Dailymot...</td>\n",
       "      <td>@nakula @jokowi @prabowo @gerindra @dailymotio...</td>\n",
       "      <td>15</td>\n",
       "    </tr>\n",
       "    <tr>\n",
       "      <th>1</th>\n",
       "      <td>joy</td>\n",
       "      <td>@Achmadr06327297 @fadlizon @Gerindra @prabowo ...</td>\n",
       "      <td>@achmadr @fadlizon @gerindra @prabowo maap bos...</td>\n",
       "      <td>14</td>\n",
       "    </tr>\n",
       "    <tr>\n",
       "      <th>2</th>\n",
       "      <td>fear</td>\n",
       "      <td>@Gerindra @PKSejahtera @prabowo Seandainya sek...</td>\n",
       "      <td>@gerindra @pksejahtera @prabowo seandainya sek...</td>\n",
       "      <td>18</td>\n",
       "    </tr>\n",
       "    <tr>\n",
       "      <th>3</th>\n",
       "      <td>joy</td>\n",
       "      <td>@fadlizon @Gerindra @prabowo Saya dukung pak p...</td>\n",
       "      <td>@fadlizon @gerindra @prabowo saya dukung pak p...</td>\n",
       "      <td>10</td>\n",
       "    </tr>\n",
       "    <tr>\n",
       "      <th>4</th>\n",
       "      <td>trust</td>\n",
       "      <td>@Gerindra @PKSejahtera Mencari yang setia dan ...</td>\n",
       "      <td>@gerindra @pksejahtera mencari yang setia dan ...</td>\n",
       "      <td>16</td>\n",
       "    </tr>\n",
       "  </tbody>\n",
       "</table>\n",
       "</div>"
      ],
      "text/plain": [
       "  annotation.labels                                            content  \\\n",
       "0               joy  @04Nakula @jokowi @prabowo @Gerindra @Dailymot...   \n",
       "1               joy  @Achmadr06327297 @fadlizon @Gerindra @prabowo ...   \n",
       "2              fear  @Gerindra @PKSejahtera @prabowo Seandainya sek...   \n",
       "3               joy  @fadlizon @Gerindra @prabowo Saya dukung pak p...   \n",
       "4             trust  @Gerindra @PKSejahtera Mencari yang setia dan ...   \n",
       "\n",
       "                                     cleaned_content  word_count  \n",
       "0  @nakula @jokowi @prabowo @gerindra @dailymotio...          15  \n",
       "1  @achmadr @fadlizon @gerindra @prabowo maap bos...          14  \n",
       "2  @gerindra @pksejahtera @prabowo seandainya sek...          18  \n",
       "3  @fadlizon @gerindra @prabowo saya dukung pak p...          10  \n",
       "4  @gerindra @pksejahtera mencari yang setia dan ...          16  "
      ]
     },
     "execution_count": 23,
     "metadata": {},
     "output_type": "execute_result"
    }
   ],
   "source": [
    "# Word count per tweet\n",
    "tweets_df_norm['word_count'] = tweets_df_norm['cleaned_content'].apply(lambda x: len(x.split()))\n",
    "tweets_df_norm.head()"
   ]
  },
  {
   "cell_type": "code",
   "execution_count": 24,
   "metadata": {},
   "outputs": [
    {
     "data": {
      "text/plain": [
       "count    8682.000000\n",
       "mean       18.117139\n",
       "std        26.196650\n",
       "min         0.000000\n",
       "25%         9.000000\n",
       "50%        14.000000\n",
       "75%        18.000000\n",
       "max       725.000000\n",
       "Name: word_count, dtype: float64"
      ]
     },
     "execution_count": 24,
     "metadata": {},
     "output_type": "execute_result"
    }
   ],
   "source": [
    "tweets_df_norm['word_count'].describe()"
   ]
  },
  {
   "cell_type": "code",
   "execution_count": 25,
   "metadata": {},
   "outputs": [],
   "source": [
    "# Removing empty tweets\n",
    "tweets_df_norm = tweets_df_norm[tweets_df_norm['cleaned_content'] != '']"
   ]
  },
  {
   "cell_type": "markdown",
   "metadata": {},
   "source": [
    "### Finding if there are any duplicate tweets"
   ]
  },
  {
   "cell_type": "code",
   "execution_count": 26,
   "metadata": {},
   "outputs": [
    {
     "data": {
      "text/plain": [
       "2245"
      ]
     },
     "execution_count": 26,
     "metadata": {},
     "output_type": "execute_result"
    }
   ],
   "source": [
    "tweets_df_norm.duplicated(subset='cleaned_content').sum()"
   ]
  },
  {
   "cell_type": "code",
   "execution_count": 27,
   "metadata": {},
   "outputs": [
    {
     "data": {
      "text/plain": [
       "1620"
      ]
     },
     "execution_count": 27,
     "metadata": {},
     "output_type": "execute_result"
    }
   ],
   "source": [
    "tweets_df_norm.duplicated(subset=['cleaned_content', 'annotation.labels']).sum()"
   ]
  },
  {
   "cell_type": "markdown",
   "metadata": {},
   "source": [
    "> The difference in above two means, there are same tweets but with different labels. One of the example is:\n",
    "> * 'setya novanto menghilang pengacara ada tugas negara sangat urgen' -> 'anticipation'\n",
    "> * 'setya novanto menghilang pengacara ada tugas negara sangat urgen' -> 'trust'\n",
    "\n",
    "> We removed the duplicates based on the tweets and for those duplicate tweets which had different labels, we kept the first occurrence and dropped the rest"
   ]
  },
  {
   "cell_type": "code",
   "execution_count": 28,
   "metadata": {},
   "outputs": [],
   "source": [
    "# De-duplicated tweets data based on the cleaned_content\n",
    "content_dedup_df = tweets_df_norm.drop_duplicates(['cleaned_content'])"
   ]
  },
  {
   "cell_type": "code",
   "execution_count": 29,
   "metadata": {},
   "outputs": [
    {
     "data": {
      "text/plain": [
       "0"
      ]
     },
     "execution_count": 29,
     "metadata": {},
     "output_type": "execute_result"
    }
   ],
   "source": [
    "# To check if there are any duplicates across the dataframe\n",
    "content_dedup_df.duplicated().sum()"
   ]
  },
  {
   "cell_type": "markdown",
   "metadata": {},
   "source": [
    "### Word Count distribution and analysis based on the words, hastags and mentions"
   ]
  },
  {
   "cell_type": "code",
   "execution_count": 65,
   "metadata": {},
   "outputs": [
    {
     "data": {
      "image/png": "[encoded data removed]",
      "text/plain": [
       "<Figure size 216x144 with 1 Axes>"
      ]
     },
     "metadata": {
      "needs_background": "light"
     },
     "output_type": "display_data"
    },
    {
     "data": {
      "image/png": "[encoded data removed]",
      "text/plain": [
       "<Figure size 216x144 with 1 Axes>"
      ]
     },
     "metadata": {
      "needs_background": "light"
     },
     "output_type": "display_data"
    },
    {
     "data": {
      "image/png": "[encoded data removed]",
      "text/plain": [
       "<Figure size 216x144 with 1 Axes>"
      ]
     },
     "metadata": {
      "needs_background": "light"
     },
     "output_type": "display_data"
    },
    {
     "data": {
      "image/png": "[encoded data removed]",
      "text/plain": [
       "<Figure size 216x144 with 1 Axes>"
      ]
     },
     "metadata": {
      "needs_background": "light"
     },
     "output_type": "display_data"
    },
    {
     "data": {
      "image/png": "[encoded data removed]",
      "text/plain": [
       "<Figure size 216x144 with 1 Axes>"
      ]
     },
     "metadata": {
      "needs_background": "light"
     },
     "output_type": "display_data"
    },
    {
     "data": {
      "image/png": "[encoded data removed]",
      "text/plain": [
       "<Figure size 216x144 with 1 Axes>"
      ]
     },
     "metadata": {
      "needs_background": "light"
     },
     "output_type": "display_data"
    },
    {
     "data": {
      "image/png": "[encoded data removed]",
      "text/plain": [
       "<Figure size 216x144 with 1 Axes>"
      ]
     },
     "metadata": {
      "needs_background": "light"
     },
     "output_type": "display_data"
    },
    {
     "data": {
      "image/png": "[encoded data removed]",
      "text/plain": [
       "<Figure size 216x144 with 1 Axes>"
      ]
     },
     "metadata": {
      "needs_background": "light"
     },
     "output_type": "display_data"
    },
    {
     "data": {
      "image/png": "[encoded data removed]",
      "text/plain": [
       "<Figure size 216x144 with 1 Axes>"
      ]
     },
     "metadata": {
      "needs_background": "light"
     },
     "output_type": "display_data"
    }
   ],
   "source": [
    "labels = content_dedup_df['annotation.labels'].unique()\n",
    "label_dist_list = [content_dedup_df['word_count'][content_dedup_df['annotation.labels'] == label] \\\n",
    "                                                  for label in labels]\n",
    "for i,label in enumerate(labels):\n",
    "    plt.figure(figsize=(3,2))\n",
    "    plt.xlim(0,150)\n",
    "    plt.xlabel('word count')\n",
    "    plt.ylabel('frequency')\n",
    "    g = plt.hist(label_dist_list[i], alpha=0.65, label=label)\n",
    "    plt.legend(loc='upper right')\n",
    "    plt.savefig(f\"./test_{i}.png\")\n"
   ]
  },
  {
   "cell_type": "code",
   "execution_count": 31,
   "metadata": {},
   "outputs": [
    {
     "data": {
      "text/plain": [
       "[('di', 1900),\n",
       " ('dan', 1627),\n",
       " ('yang', 1293),\n",
       " ('yg', 1223),\n",
       " ('saya', 1086),\n",
       " ('ini', 884),\n",
       " ('@gerindra', 787),\n",
       " ('@prabowo', 776),\n",
       " ('ada', 710),\n",
       " ('untuk', 708),\n",
       " ('bisa', 607),\n",
       " ('itu', 554),\n",
       " ('tidak', 553),\n",
       " ('dari', 524),\n",
       " ('pak', 521),\n",
       " ('dengan', 493),\n",
       " ('kita', 439),\n",
       " ('@fadlizon', 418),\n",
       " ('ke', 390),\n",
       " ('ya', 388)]"
      ]
     },
     "execution_count": 31,
     "metadata": {},
     "output_type": "execute_result"
    }
   ],
   "source": [
    "# Most common words in the data\n",
    "words = []\n",
    "\n",
    "for _, row in content_dedup_df.iterrows():\n",
    "    tweet = row['cleaned_content']\n",
    "    tweet = tweet.split()\n",
    "    for word in tweet:\n",
    "        words.append(word)\n",
    "        \n",
    "Counter(words).most_common(20)"
   ]
  },
  {
   "cell_type": "code",
   "execution_count": 32,
   "metadata": {},
   "outputs": [],
   "source": [
    "# Extracting hashtags and mentions\n",
    "hashtags = []\n",
    "mentions = []\n",
    "\n",
    "for _, row in content_dedup_df.iterrows():\n",
    "    tweet = row['cleaned_content']\n",
    "    try:\n",
    "        temp_hashtags = re.findall(r\"#(\\w+)\", tweet)\n",
    "        temp_mentions = re.findall(r\"@(\\w+)\", tweet)\n",
    "    except TypeError:\n",
    "        print(tweet)\n",
    "        break\n",
    "        \n",
    "\n",
    "    hashtagger = lambda x: \"#\" + x\n",
    "    mentioner = lambda x: \"@\" + x\n",
    "    temp_hashtags = list(map(hashtagger, temp_hashtags))\n",
    "    temp_mentions = list(map(mentioner, temp_mentions))\n",
    "    hashtags.extend(temp_hashtags)\n",
    "    mentions.extend(temp_mentions)\n",
    "            \n"
   ]
  },
  {
   "cell_type": "code",
   "execution_count": 33,
   "metadata": {
    "scrolled": true
   },
   "outputs": [
    {
     "name": "stdout",
     "output_type": "stream",
     "text": [
      "Top 20 most common hashtags:-\n"
     ]
    },
    {
     "data": {
      "text/plain": [
       "[('#gantipresiden', 60),\n",
       " ('#rindujabarjuara', 30),\n",
       " ('#ichoosehappy', 26),\n",
       " ('#rindu', 17),\n",
       " ('#wirelessbylogitech', 16),\n",
       " ('#pastiequity', 15),\n",
       " ('#equitylifeindonesia', 15),\n",
       " ('#sedulurngaji', 14),\n",
       " ('#ramadhan', 14),\n",
       " ('#jjonlne', 13),\n",
       " ('#puasa', 12),\n",
       " ('#autoprotection', 12),\n",
       " ('#kamiganjaryasin', 11),\n",
       " ('#romahurmuziy', 11),\n",
       " ('#lippoinsurance', 11),\n",
       " ('#lgi', 11),\n",
       " ('#cashplus', 11),\n",
       " ('#healthinsurance', 11),\n",
       " ('#myhealthduo', 11),\n",
       " ('#sgap', 11)]"
      ]
     },
     "execution_count": 33,
     "metadata": {},
     "output_type": "execute_result"
    }
   ],
   "source": [
    "print(\"Top 20 most common hashtags:-\")\n",
    "Counter(hashtags).most_common(20)"
   ]
  },
  {
   "cell_type": "code",
   "execution_count": 34,
   "metadata": {},
   "outputs": [
    {
     "name": "stdout",
     "output_type": "stream",
     "text": [
      "Top 20 most common mentions:-\n"
     ]
    },
    {
     "data": {
      "text/plain": [
       "[('@gerindra', 794),\n",
       " ('@prabowo', 783),\n",
       " ('@fadlizon', 423),\n",
       " ('@jokowi', 344),\n",
       " ('@sbyudhoyono', 243),\n",
       " ('@mromahurmuziy', 241),\n",
       " ('@pksejahtera', 233),\n",
       " ('@ganjarpranowo', 175),\n",
       " ('@cakiminow', 138),\n",
       " ('@ridwankamil', 118),\n",
       " ('@yusrilihzamhd', 94),\n",
       " ('@sudirmansaid', 93),\n",
       " ('@pbb', 80),\n",
       " ('@dprri', 71),\n",
       " ('@officialpan', 65),\n",
       " ('@mardanialisera', 59),\n",
       " ('@psiid', 59),\n",
       " ('@detikcom', 58),\n",
       " ('@zulhasan', 57),\n",
       " ('@msisohibuliman', 49)]"
      ]
     },
     "execution_count": 34,
     "metadata": {},
     "output_type": "execute_result"
    }
   ],
   "source": [
    "print(\"Top 20 most common mentions:-\")\n",
    "Counter(mentions).most_common(20)"
   ]
  },
  {
   "cell_type": "markdown",
   "metadata": {},
   "source": [
    "### Preparing data for classification task"
   ]
  },
  {
   "cell_type": "code",
   "execution_count": 35,
   "metadata": {},
   "outputs": [
    {
     "name": "stderr",
     "output_type": "stream",
     "text": [
      "/Users/abhayana/anaconda3/lib/python3.7/site-packages/ipykernel_launcher.py:8: SettingWithCopyWarning: \n",
      "A value is trying to be set on a copy of a slice from a DataFrame.\n",
      "Try using .loc[row_indexer,col_indexer] = value instead\n",
      "\n",
      "See the caveats in the documentation: http://pandas.pydata.org/pandas-docs/stable/indexing.html#indexing-view-versus-copy\n",
      "  \n"
     ]
    }
   ],
   "source": [
    "## Removing hashtags and mentions from the text for modelling purpose\n",
    "\n",
    "def remove_ht_mt(tweet):\n",
    "    tweet = re.sub(r\"#(\\w+)\", '', tweet)\n",
    "    tweet = re.sub(r\"@(\\w+)\", '', tweet)\n",
    "    return tweet\n",
    "\n",
    "content_dedup_df['final_cleaned_content'] = content_dedup_df['cleaned_content'].apply(lambda x: remove_ht_mt(x))"
   ]
  },
  {
   "cell_type": "code",
   "execution_count": 36,
   "metadata": {},
   "outputs": [
    {
     "name": "stderr",
     "output_type": "stream",
     "text": [
      "/Users/abhayana/anaconda3/lib/python3.7/site-packages/ipykernel_launcher.py:1: SettingWithCopyWarning: \n",
      "A value is trying to be set on a copy of a slice from a DataFrame.\n",
      "Try using .loc[row_indexer,col_indexer] = value instead\n",
      "\n",
      "See the caveats in the documentation: http://pandas.pydata.org/pandas-docs/stable/indexing.html#indexing-view-versus-copy\n",
      "  \"\"\"Entry point for launching an IPython kernel.\n"
     ]
    }
   ],
   "source": [
    "content_dedup_df['final_word_count'] = content_dedup_df['final_cleaned_content'].apply(lambda x: len(x.split()))"
   ]
  },
  {
   "cell_type": "code",
   "execution_count": 37,
   "metadata": {},
   "outputs": [
    {
     "data": {
      "text/plain": [
       "count    6435.000000\n",
       "mean       15.265113\n",
       "std        25.877848\n",
       "min         0.000000\n",
       "25%         7.000000\n",
       "50%        11.000000\n",
       "75%        16.000000\n",
       "max       725.000000\n",
       "Name: final_word_count, dtype: float64"
      ]
     },
     "execution_count": 37,
     "metadata": {},
     "output_type": "execute_result"
    }
   ],
   "source": [
    "content_dedup_df['final_word_count'].describe()"
   ]
  },
  {
   "cell_type": "code",
   "execution_count": 38,
   "metadata": {},
   "outputs": [],
   "source": [
    "# Taking those tweets having atleast 4 words\n",
    "content_dedup_df = content_dedup_df[content_dedup_df['final_word_count'] > 3]"
   ]
  },
  {
   "cell_type": "code",
   "execution_count": 39,
   "metadata": {},
   "outputs": [
    {
     "data": {
      "text/plain": [
       "count    5938.000000\n",
       "mean       16.356517\n",
       "std        26.650358\n",
       "min         4.000000\n",
       "25%         8.000000\n",
       "50%        12.000000\n",
       "75%        16.000000\n",
       "max       725.000000\n",
       "Name: final_word_count, dtype: float64"
      ]
     },
     "execution_count": 39,
     "metadata": {},
     "output_type": "execute_result"
    }
   ],
   "source": [
    "content_dedup_df['final_word_count'].describe()"
   ]
  },
  {
   "cell_type": "code",
   "execution_count": 40,
   "metadata": {},
   "outputs": [
    {
     "data": {
      "text/plain": [
       "31"
      ]
     },
     "execution_count": 40,
     "metadata": {},
     "output_type": "execute_result"
    }
   ],
   "source": [
    "content_dedup_df.duplicated(subset='final_cleaned_content').sum()"
   ]
  },
  {
   "cell_type": "markdown",
   "metadata": {},
   "source": [
    "> The duplicates have been found after removing hashtags and mentions from the tweet contents. This is possible because although the tweet content was similar but either hastags or mentions were different. For example:\n",
    "> * 'berkomitmen melestarikan desa adat emil dardak didoakan pemangku adat pacet #jatimsiji'\n",
    "> * 'berkomitmen melestarikan desa adat emil dardak didoakan pemangku adat pacet #kabehsedulur'\n"
   ]
  },
  {
   "cell_type": "code",
   "execution_count": 41,
   "metadata": {},
   "outputs": [],
   "source": [
    "# Removing duplicated tweets\n",
    "content_dedup_df.drop_duplicates(subset='final_cleaned_content', inplace=True)"
   ]
  },
  {
   "cell_type": "code",
   "execution_count": 42,
   "metadata": {},
   "outputs": [
    {
     "data": {
      "text/plain": [
       "(5907, 6)"
      ]
     },
     "execution_count": 42,
     "metadata": {},
     "output_type": "execute_result"
    }
   ],
   "source": [
    "content_dedup_df.shape"
   ]
  },
  {
   "cell_type": "code",
   "execution_count": 43,
   "metadata": {},
   "outputs": [
    {
     "data": {
      "text/html": [
       "<div>\n",
       "<style scoped>\n",
       "    .dataframe tbody tr th:only-of-type {\n",
       "        vertical-align: middle;\n",
       "    }\n",
       "\n",
       "    .dataframe tbody tr th {\n",
       "        vertical-align: top;\n",
       "    }\n",
       "\n",
       "    .dataframe thead th {\n",
       "        text-align: right;\n",
       "    }\n",
       "</style>\n",
       "<table border=\"1\" class=\"dataframe\">\n",
       "  <thead>\n",
       "    <tr style=\"text-align: right;\">\n",
       "      <th></th>\n",
       "      <th>annotation.labels</th>\n",
       "      <th>content</th>\n",
       "      <th>cleaned_content</th>\n",
       "      <th>word_count</th>\n",
       "      <th>final_cleaned_content</th>\n",
       "      <th>final_word_count</th>\n",
       "    </tr>\n",
       "  </thead>\n",
       "  <tbody>\n",
       "    <tr>\n",
       "      <th>0</th>\n",
       "      <td>joy</td>\n",
       "      <td>@04Nakula @jokowi @prabowo @Gerindra @Dailymot...</td>\n",
       "      <td>@nakula @jokowi @prabowo @gerindra @dailymotio...</td>\n",
       "      <td>15</td>\n",
       "      <td>pdhl poros ke ini sebenarnya mau nelikung...</td>\n",
       "      <td>9</td>\n",
       "    </tr>\n",
       "    <tr>\n",
       "      <th>1</th>\n",
       "      <td>joy</td>\n",
       "      <td>@Achmadr06327297 @fadlizon @Gerindra @prabowo ...</td>\n",
       "      <td>@achmadr @fadlizon @gerindra @prabowo maap bos...</td>\n",
       "      <td>14</td>\n",
       "      <td>maap bosmending ngomong realita aja soal k...</td>\n",
       "      <td>10</td>\n",
       "    </tr>\n",
       "    <tr>\n",
       "      <th>2</th>\n",
       "      <td>fear</td>\n",
       "      <td>@Gerindra @PKSejahtera @prabowo Seandainya sek...</td>\n",
       "      <td>@gerindra @pksejahtera @prabowo seandainya sek...</td>\n",
       "      <td>18</td>\n",
       "      <td>seandainya sekutu berpaling apa masih tetap...</td>\n",
       "      <td>15</td>\n",
       "    </tr>\n",
       "    <tr>\n",
       "      <th>3</th>\n",
       "      <td>joy</td>\n",
       "      <td>@fadlizon @Gerindra @prabowo Saya dukung pak p...</td>\n",
       "      <td>@fadlizon @gerindra @prabowo saya dukung pak p...</td>\n",
       "      <td>10</td>\n",
       "      <td>saya dukung pak prabowo capresnamun plihan</td>\n",
       "      <td>6</td>\n",
       "    </tr>\n",
       "    <tr>\n",
       "      <th>4</th>\n",
       "      <td>trust</td>\n",
       "      <td>@Gerindra @PKSejahtera Mencari yang setia dan ...</td>\n",
       "      <td>@gerindra @pksejahtera mencari yang setia dan ...</td>\n",
       "      <td>16</td>\n",
       "      <td>mencari yang setia dan sepemikiran itu sulit...</td>\n",
       "      <td>14</td>\n",
       "    </tr>\n",
       "  </tbody>\n",
       "</table>\n",
       "</div>"
      ],
      "text/plain": [
       "  annotation.labels                                            content  \\\n",
       "0               joy  @04Nakula @jokowi @prabowo @Gerindra @Dailymot...   \n",
       "1               joy  @Achmadr06327297 @fadlizon @Gerindra @prabowo ...   \n",
       "2              fear  @Gerindra @PKSejahtera @prabowo Seandainya sek...   \n",
       "3               joy  @fadlizon @Gerindra @prabowo Saya dukung pak p...   \n",
       "4             trust  @Gerindra @PKSejahtera Mencari yang setia dan ...   \n",
       "\n",
       "                                     cleaned_content  word_count  \\\n",
       "0  @nakula @jokowi @prabowo @gerindra @dailymotio...          15   \n",
       "1  @achmadr @fadlizon @gerindra @prabowo maap bos...          14   \n",
       "2  @gerindra @pksejahtera @prabowo seandainya sek...          18   \n",
       "3  @fadlizon @gerindra @prabowo saya dukung pak p...          10   \n",
       "4  @gerindra @pksejahtera mencari yang setia dan ...          16   \n",
       "\n",
       "                               final_cleaned_content  final_word_count  \n",
       "0       pdhl poros ke ini sebenarnya mau nelikung...                 9  \n",
       "1      maap bosmending ngomong realita aja soal k...                10  \n",
       "2     seandainya sekutu berpaling apa masih tetap...                15  \n",
       "3        saya dukung pak prabowo capresnamun plihan                  6  \n",
       "4    mencari yang setia dan sepemikiran itu sulit...                14  "
      ]
     },
     "execution_count": 43,
     "metadata": {},
     "output_type": "execute_result"
    }
   ],
   "source": [
    "content_dedup_df.head()"
   ]
  },
  {
   "cell_type": "code",
   "execution_count": 48,
   "metadata": {},
   "outputs": [
    {
     "data": {
      "text/html": [
       "<div>\n",
       "<style scoped>\n",
       "    .dataframe tbody tr th:only-of-type {\n",
       "        vertical-align: middle;\n",
       "    }\n",
       "\n",
       "    .dataframe tbody tr th {\n",
       "        vertical-align: top;\n",
       "    }\n",
       "\n",
       "    .dataframe thead th {\n",
       "        text-align: right;\n",
       "    }\n",
       "</style>\n",
       "<table border=\"1\" class=\"dataframe\">\n",
       "  <thead>\n",
       "    <tr style=\"text-align: right;\">\n",
       "      <th></th>\n",
       "      <th>annotation.labels</th>\n",
       "      <th>final_word_count</th>\n",
       "    </tr>\n",
       "  </thead>\n",
       "  <tbody>\n",
       "    <tr>\n",
       "      <th>0</th>\n",
       "      <td>anger</td>\n",
       "      <td>12.0</td>\n",
       "    </tr>\n",
       "    <tr>\n",
       "      <th>1</th>\n",
       "      <td>anticipation</td>\n",
       "      <td>10.0</td>\n",
       "    </tr>\n",
       "    <tr>\n",
       "      <th>2</th>\n",
       "      <td>disgust</td>\n",
       "      <td>10.0</td>\n",
       "    </tr>\n",
       "    <tr>\n",
       "      <th>3</th>\n",
       "      <td>fear</td>\n",
       "      <td>14.0</td>\n",
       "    </tr>\n",
       "    <tr>\n",
       "      <th>4</th>\n",
       "      <td>joy</td>\n",
       "      <td>11.0</td>\n",
       "    </tr>\n",
       "    <tr>\n",
       "      <th>5</th>\n",
       "      <td>other</td>\n",
       "      <td>10.5</td>\n",
       "    </tr>\n",
       "    <tr>\n",
       "      <th>6</th>\n",
       "      <td>sadness</td>\n",
       "      <td>15.0</td>\n",
       "    </tr>\n",
       "    <tr>\n",
       "      <th>7</th>\n",
       "      <td>surprise</td>\n",
       "      <td>17.5</td>\n",
       "    </tr>\n",
       "    <tr>\n",
       "      <th>8</th>\n",
       "      <td>trust</td>\n",
       "      <td>12.0</td>\n",
       "    </tr>\n",
       "  </tbody>\n",
       "</table>\n",
       "</div>"
      ],
      "text/plain": [
       "  annotation.labels  final_word_count\n",
       "0             anger              12.0\n",
       "1      anticipation              10.0\n",
       "2           disgust              10.0\n",
       "3              fear              14.0\n",
       "4               joy              11.0\n",
       "5             other              10.5\n",
       "6           sadness              15.0\n",
       "7          surprise              17.5\n",
       "8             trust              12.0"
      ]
     },
     "execution_count": 48,
     "metadata": {},
     "output_type": "execute_result"
    }
   ],
   "source": [
    "#Avg word count by category\n",
    "\n",
    "avg_wc = content_dedup_df.groupby('annotation.labels').median().reset_index()\n",
    "avg_wc[['annotation.labels', 'final_word_count']]"
   ]
  },
  {
   "cell_type": "code",
   "execution_count": 45,
   "metadata": {},
   "outputs": [],
   "source": [
    "content_dedup_df[['final_cleaned_content', 'annotation.labels']].to_csv(\"./cleaned_tweets.csv\", index=False)"
   ]
  }
 ],
 "metadata": {
  "kernelspec": {
   "display_name": "Python 3",
   "language": "python",
   "name": "python3"
  },
  "language_info": {
   "codemirror_mode": {
    "name": "ipython",
    "version": 3
   },
   "file_extension": ".py",
   "mimetype": "text/x-python",
   "name": "python",
   "nbconvert_exporter": "python",
   "pygments_lexer": "ipython3",
   "version": "3.7.3"
  }
 },
 "nbformat": 4,
 "nbformat_minor": 2
}
